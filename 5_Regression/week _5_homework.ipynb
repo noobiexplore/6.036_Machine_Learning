{
 "cells": [
  {
   "cell_type": "code",
   "execution_count": 2,
   "id": "a11d0393-7e78-475b-a4e8-ea1fbee09d3f",
   "metadata": {},
   "outputs": [],
   "source": [
    "import numpy as np"
   ]
  },
  {
   "cell_type": "code",
   "execution_count": 3,
   "id": "eec5cb29-19cf-4a84-a2c6-aa22d2f2d3e9",
   "metadata": {},
   "outputs": [],
   "source": [
    "def lin(x):\n",
    "    return x + 1"
   ]
  },
  {
   "cell_type": "code",
   "execution_count": 4,
   "id": "3bd195f0-6982-4138-8008-a0058972accc",
   "metadata": {},
   "outputs": [],
   "source": [
    "d = [(1, 3), (1, 1), (3, 2), (3, 6)]"
   ]
  },
  {
   "cell_type": "code",
   "execution_count": 5,
   "id": "322930d0-f484-4ba5-9cc6-91cabd2b134e",
   "metadata": {},
   "outputs": [
    {
     "data": {
      "text/plain": [
       "(3, 2)"
      ]
     },
     "execution_count": 5,
     "metadata": {},
     "output_type": "execute_result"
    }
   ],
   "source": [
    "d[2]"
   ]
  },
  {
   "cell_type": "code",
   "execution_count": 6,
   "id": "9eecfe3b-7eaa-4ab6-9ae2-b0f78cb946a9",
   "metadata": {},
   "outputs": [
    {
     "data": {
      "text/plain": [
       "2"
      ]
     },
     "execution_count": 6,
     "metadata": {},
     "output_type": "execute_result"
    }
   ],
   "source": [
    "d[2][1]"
   ]
  },
  {
   "cell_type": "code",
   "execution_count": 7,
   "id": "ff118866-d25a-4ba6-a435-e654efd590bf",
   "metadata": {},
   "outputs": [
    {
     "data": {
      "text/plain": [
       "[1, 1, 4, 4]"
      ]
     },
     "execution_count": 7,
     "metadata": {},
     "output_type": "execute_result"
    }
   ],
   "source": [
    "[(d[i][1] - (d[i][0] + 1))**2 for i in range(len(d))]"
   ]
  },
  {
   "cell_type": "code",
   "execution_count": 8,
   "id": "0509856f-3700-448d-96ba-118db464d906",
   "metadata": {},
   "outputs": [
    {
     "data": {
      "text/plain": [
       "array([[1, 1, 3, 3]])"
      ]
     },
     "execution_count": 8,
     "metadata": {},
     "output_type": "execute_result"
    }
   ],
   "source": [
    "x = np.array([[d[i][0] for i in range(len(d))]])\n",
    "x"
   ]
  },
  {
   "cell_type": "code",
   "execution_count": 9,
   "id": "f8bf3ccf-e280-4f20-bec8-3eb1b8fc82e4",
   "metadata": {},
   "outputs": [],
   "source": [
    "y = np.array([[d[i][1] for i in range(len(d))]])"
   ]
  },
  {
   "cell_type": "code",
   "execution_count": 10,
   "id": "3bd70364-4a95-4f17-88d4-dbb25d18cd07",
   "metadata": {},
   "outputs": [],
   "source": [
    "th_lue = np.array([[1]])"
   ]
  },
  {
   "cell_type": "code",
   "execution_count": 11,
   "id": "83ef389a-301d-4c09-9d28-0b5d20014757",
   "metadata": {},
   "outputs": [
    {
     "data": {
      "text/plain": [
       "array([[ 4,  0, -6, 18]])"
      ]
     },
     "execution_count": 11,
     "metadata": {},
     "output_type": "execute_result"
    }
   ],
   "source": [
    "-2 * (np.dot(th_lue.T, x) - y) * x"
   ]
  },
  {
   "cell_type": "code",
   "execution_count": 12,
   "id": "677a0ce1-a51c-4d39-85f4-319d0f2d3eee",
   "metadata": {},
   "outputs": [
    {
     "data": {
      "text/plain": [
       "array([[-2, -2, -6, -6]])"
      ]
     },
     "execution_count": 12,
     "metadata": {},
     "output_type": "execute_result"
    }
   ],
   "source": [
    "np.dot(th_lue.T, x) * (-2)"
   ]
  },
  {
   "cell_type": "code",
   "execution_count": 23,
   "id": "98096ace-2b7c-452c-8d59-c8634cc5977d",
   "metadata": {},
   "outputs": [
    {
     "data": {
      "text/plain": [
       "array([[1, 2],\n",
       "       [2, 3],\n",
       "       [3, 5],\n",
       "       [1, 4]])"
      ]
     },
     "execution_count": 23,
     "metadata": {},
     "output_type": "execute_result"
    }
   ],
   "source": [
    "Z = np.array([[1, 2], [2, 3], [3, 5], [1, 4]])\n",
    "Z"
   ]
  },
  {
   "cell_type": "code",
   "execution_count": 26,
   "id": "a5c64a24-88fe-4620-967e-079397785807",
   "metadata": {},
   "outputs": [
    {
     "data": {
      "text/plain": [
       "array([[ 5,  8, 13,  9],\n",
       "       [ 8, 13, 21, 14],\n",
       "       [13, 21, 34, 23],\n",
       "       [ 9, 14, 23, 17]])"
      ]
     },
     "execution_count": 26,
     "metadata": {},
     "output_type": "execute_result"
    }
   ],
   "source": [
    "W = np.dot(Z, Z.T)\n",
    "W"
   ]
  },
  {
   "cell_type": "code",
   "execution_count": 17,
   "id": "6e3e0d81-ce88-4caf-8552-45a289490282",
   "metadata": {},
   "outputs": [],
   "source": [
    "def lin_reg(x, th, th0):\n",
    "    return np.dot(th.T, x) + th0\n",
    "\n",
    "def square_loss(x, y, th, th0):\n",
    "    return (y - lin_reg(x, th, th0))**2\n",
    "\n",
    "def mean_square_loss(x, y, th, th0):\n",
    "    # the axis=1 and keepdims=True are important when x is a full matrix\n",
    "    return np.mean(square_loss(x, y, th, th0), axis = 1, keepdims = True)"
   ]
  },
  {
   "cell_type": "code",
   "execution_count": 20,
   "id": "4d44cd10-48c1-43f4-9ee3-9a6f368d6539",
   "metadata": {},
   "outputs": [],
   "source": [
    "X = np.array([[1., 2., 3., 4.], [1., 1., 1., 1.]])\n",
    "Y = np.array([[1., 2.2, 2.8, 4.1]])\n",
    "th = np.array([[1.0],[0.05]])\n",
    "th0 = np.array([[0.]])"
   ]
  },
  {
   "cell_type": "code",
   "execution_count": 21,
   "id": "09fddc46-71c3-4abd-a14c-416777a8cf15",
   "metadata": {},
   "outputs": [
    {
     "data": {
      "text/plain": [
       "array([[0.0225]])"
      ]
     },
     "execution_count": 21,
     "metadata": {},
     "output_type": "execute_result"
    }
   ],
   "source": [
    "mean_square_loss(X, Y, th, th0)"
   ]
  },
  {
   "cell_type": "code",
   "execution_count": 22,
   "id": "1ec68b8a-62bf-41a6-b6dd-0c36f6add698",
   "metadata": {},
   "outputs": [],
   "source": [
    "# Write a function that returns the gradient of lin_reg(x, th, th0)\n",
    "# with respect to th\n",
    "def d_lin_reg_th(x, th, th0):\n",
    "    return x"
   ]
  },
  {
   "cell_type": "code",
   "execution_count": 27,
   "id": "90078fd5-0abb-443f-add3-25a79150679c",
   "metadata": {},
   "outputs": [
    {
     "data": {
      "text/plain": [
       "array([[ 5,  8, 13,  9],\n",
       "       [ 8, 13, 21, 14],\n",
       "       [13, 21, 34, 23]])"
      ]
     },
     "execution_count": 27,
     "metadata": {},
     "output_type": "execute_result"
    }
   ],
   "source": [
    "W[:-1, :]"
   ]
  },
  {
   "cell_type": "code",
   "execution_count": 28,
   "id": "bf51bde1-a235-4afd-be73-e316516cc6a1",
   "metadata": {},
   "outputs": [
    {
     "data": {
      "text/plain": [
       "array([[ 9, 14, 23, 17]])"
      ]
     },
     "execution_count": 28,
     "metadata": {},
     "output_type": "execute_result"
    }
   ],
   "source": [
    "W[-1:, :]"
   ]
  },
  {
   "cell_type": "code",
   "execution_count": 30,
   "id": "4044f841-d4ec-4350-ba96-b2b2104c69e4",
   "metadata": {},
   "outputs": [
    {
     "data": {
      "text/plain": [
       "2"
      ]
     },
     "execution_count": 30,
     "metadata": {},
     "output_type": "execute_result"
    }
   ],
   "source": [
    "np.random.randint(10)"
   ]
  },
  {
   "cell_type": "code",
   "execution_count": 31,
   "id": "6f847605-1f58-4b1c-a4f1-ef7827fa690b",
   "metadata": {},
   "outputs": [],
   "source": [
    "def downwards_line():\n",
    "    X = np.array([[0.0, 0.1, 0.2, 0.3, 0.42, 0.52, 0.72, 0.78, 0.84, 1.0],\n",
    "                  [1.0, 1.0, 1.0, 1.0, 1.0,  1.0,  1.0,  1.0,  1.0,  1.0]])\n",
    "    y = np.array([[0.4, 0.6, 1.2, 0.1, 0.22, -0.6, -1.5, -0.5, -0.5, 0.0]])\n",
    "    return X, y\n",
    "\n",
    "X, y = downwards_line()\n",
    "\n",
    "def J(Xi, yi, w):\n",
    "    # translate from (1-augmented X, y, theta) to (separated X, y, th, th0) format\n",
    "    return float(ridge_obj(Xi[:-1,:], yi, w[:-1,:], w[-1:,:], 0))\n",
    "\n",
    "def dJ(Xi, yi, w):\n",
    "    def f(w): return J(Xi, yi, w)\n",
    "    return num_grad(f)(w)"
   ]
  },
  {
   "cell_type": "code",
   "execution_count": 32,
   "id": "21b05edd-fb4c-4aa0-979c-50d6d0411297",
   "metadata": {},
   "outputs": [],
   "source": [
    "def num_grad(f):\n",
    "    def df(x):\n",
    "        g = np.zeros(x.shape)\n",
    "        delta = 0.001\n",
    "        for i in range(x.shape[0]):\n",
    "            xi = x[i,0]\n",
    "            x[i,0] = xi - delta\n",
    "            xm = f(x)\n",
    "            x[i,0] = xi + delta\n",
    "            xp = f(x)\n",
    "            x[i,0] = xi\n",
    "            g[i,0] = (xp - xm)/(2*delta)\n",
    "        return g\n",
    "    return df"
   ]
  },
  {
   "cell_type": "code",
   "execution_count": 33,
   "id": "6d162695-c60f-410b-8998-df7e2aa7635c",
   "metadata": {},
   "outputs": [
    {
     "data": {
      "text/plain": [
       "13"
      ]
     },
     "execution_count": 33,
     "metadata": {},
     "output_type": "execute_result"
    }
   ],
   "source": [
    "W[1,1]"
   ]
  },
  {
   "cell_type": "code",
   "execution_count": 35,
   "id": "a5321e3c-39a9-46f3-88cc-caa8c2ea446d",
   "metadata": {},
   "outputs": [
    {
     "data": {
      "text/plain": [
       "array([[ 8],\n",
       "       [13],\n",
       "       [21],\n",
       "       [14]])"
      ]
     },
     "execution_count": 35,
     "metadata": {},
     "output_type": "execute_result"
    }
   ],
   "source": [
    "W[:,1:2]"
   ]
  },
  {
   "cell_type": "code",
   "execution_count": 36,
   "id": "5cc12f04-0e21-4316-bcf8-a681c70bead0",
   "metadata": {},
   "outputs": [],
   "source": [
    "def sgd(X, y, J, dJ, w0, step_size_fn, max_iter):\n",
    "    _, n = X.shape\n",
    "    ws = [w0]\n",
    "    fs = [] \n",
    "    for t in range(max_iter):\n",
    "        w_old = ws[-1]\n",
    "        # Picking a data among dataset randomly i.e. stochastic\n",
    "        i = np.random.randint(n)\n",
    "        xi = X[:, i:i+1]\n",
    "        yi = y[:, i:i+1]\n",
    "        # Updating weight\n",
    "        w_new = w_old - step_size_fn(t) * dJ(xi, yi, w_old)\n",
    "        ws.append(w_new)\n",
    "        fs.append(J(xi, yi, w_new))\n",
    "    return ws[-1], ws, fs"
   ]
  },
  {
   "cell_type": "code",
   "execution_count": null,
   "id": "a498c3ad-a1bd-4bff-ae22-ef092216304b",
   "metadata": {},
   "outputs": [],
   "source": []
  }
 ],
 "metadata": {
  "kernelspec": {
   "display_name": "Python 3 (ipykernel)",
   "language": "python",
   "name": "python3"
  },
  "language_info": {
   "codemirror_mode": {
    "name": "ipython",
    "version": 3
   },
   "file_extension": ".py",
   "mimetype": "text/x-python",
   "name": "python",
   "nbconvert_exporter": "python",
   "pygments_lexer": "ipython3",
   "version": "3.8.10"
  }
 },
 "nbformat": 4,
 "nbformat_minor": 5
}
