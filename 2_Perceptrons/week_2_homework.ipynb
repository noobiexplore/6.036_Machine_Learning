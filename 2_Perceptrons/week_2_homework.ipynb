{
 "cells": [
  {
   "cell_type": "code",
   "execution_count": 1,
   "id": "9efce6fa-e0be-42d5-a7b5-099b09e4e45c",
   "metadata": {},
   "outputs": [],
   "source": [
    "import numpy as np"
   ]
  },
  {
   "cell_type": "code",
   "execution_count": 2,
   "id": "bbc89ee8-f2fe-4866-8c86-5bb8fe1881aa",
   "metadata": {},
   "outputs": [
    {
     "data": {
      "text/plain": [
       "array([[-3, -1, -1,  2,  1],\n",
       "       [ 2,  1, -1,  2, -1]])"
      ]
     },
     "execution_count": 2,
     "metadata": {},
     "output_type": "execute_result"
    }
   ],
   "source": [
    "x = np.array([[-3, 2], [-1, 1], [-1, -1], [2, 2], [1, -1]]).T\n",
    "x"
   ]
  },
  {
   "cell_type": "code",
   "execution_count": 3,
   "id": "13e45f74-4e4e-49f4-9983-261e8fb777ac",
   "metadata": {},
   "outputs": [
    {
     "data": {
      "text/plain": [
       "(2, 5)"
      ]
     },
     "execution_count": 3,
     "metadata": {},
     "output_type": "execute_result"
    }
   ],
   "source": [
    "d, n = x.shape\n",
    "(d, n)"
   ]
  },
  {
   "cell_type": "code",
   "execution_count": 4,
   "id": "330b0e32-6ceb-44ba-ac8c-108a365f232a",
   "metadata": {},
   "outputs": [
    {
     "data": {
      "text/plain": [
       "array([[ 1, -1, -1, -1, -1]])"
      ]
     },
     "execution_count": 4,
     "metadata": {},
     "output_type": "execute_result"
    }
   ],
   "source": [
    "y = np.array([[1, -1, -1, -1, -1]])\n",
    "y"
   ]
  },
  {
   "cell_type": "code",
   "execution_count": 5,
   "id": "c7c6ba9c-138e-4506-ba33-7c6ad0869c50",
   "metadata": {},
   "outputs": [
    {
     "data": {
      "text/plain": [
       "-1"
      ]
     },
     "execution_count": 5,
     "metadata": {},
     "output_type": "execute_result"
    }
   ],
   "source": [
    "y[0, 1]"
   ]
  },
  {
   "cell_type": "code",
   "execution_count": 6,
   "id": "b0e6d6b1-27c4-4be6-a264-ee732ac8b20e",
   "metadata": {},
   "outputs": [
    {
     "data": {
      "text/plain": [
       "array([[-3],\n",
       "       [ 2]])"
      ]
     },
     "execution_count": 6,
     "metadata": {},
     "output_type": "execute_result"
    }
   ],
   "source": [
    "x[:, 0:1]"
   ]
  },
  {
   "cell_type": "code",
   "execution_count": 7,
   "id": "279c2c30-6337-41bd-a6b6-6f1e3fbd76b8",
   "metadata": {},
   "outputs": [],
   "source": [
    "th = np.zeros((d, 1))\n",
    "th0 = np.zeros((1, 1))\n",
    "for t in range(10):\n",
    "    changed = False\n",
    "    for i in range(n):\n",
    "        if y[0, i] * (np.dot(th.T, x[:, i : i+1]) + th0[0, 0]) <= 0:\n",
    "            th = th + y[0, i] * x[:, i : i+1]\n",
    "            th0 = th0 + y[0, i]\n",
    "            changed = True\n",
    "    if not changed:\n",
    "        break"
   ]
  },
  {
   "cell_type": "code",
   "execution_count": 8,
   "id": "99c58758-abf8-4817-83c3-34fd0fb5cacb",
   "metadata": {},
   "outputs": [
    {
     "data": {
      "text/plain": [
       "array([[-2.],\n",
       "       [ 0.]])"
      ]
     },
     "execution_count": 8,
     "metadata": {},
     "output_type": "execute_result"
    }
   ],
   "source": [
    "th"
   ]
  },
  {
   "cell_type": "code",
   "execution_count": 9,
   "id": "4e12585e-103c-4ecd-985e-3a685313ee8f",
   "metadata": {},
   "outputs": [
    {
     "data": {
      "text/plain": [
       "array([[-5.]])"
      ]
     },
     "execution_count": 9,
     "metadata": {},
     "output_type": "execute_result"
    }
   ],
   "source": [
    "th0"
   ]
  },
  {
   "cell_type": "code",
   "execution_count": 10,
   "id": "387535b9-00a3-47b3-81d6-67d2835e3442",
   "metadata": {},
   "outputs": [
    {
     "data": {
      "text/plain": [
       "4"
      ]
     },
     "execution_count": 10,
     "metadata": {},
     "output_type": "execute_result"
    }
   ],
   "source": [
    "t"
   ]
  },
  {
   "cell_type": "code",
   "execution_count": 11,
   "id": "6142d59d-4d0f-4788-99d1-c51262f488d4",
   "metadata": {},
   "outputs": [],
   "source": [
    "def perceptron(data, labels, params={}, hook=None):\n",
    "    # if T not in params, default to 100\n",
    "    T = params.get('T', 100)\n",
    "    # Your implementation here\n",
    "    d, n = data.shape\n",
    "    th = np.zeros((d, 1))\n",
    "    th0 = np.zeros((1, 1))\n",
    "\n",
    "    for t in range(T):\n",
    "        changed = False\n",
    "        for i in range(n):\n",
    "            if labels[0, i] * (np.dot(th.T, data[:, i : i+1]) + th0[0, 0]) <= 0:\n",
    "                th = th + labels[0, i] * data[:, i : i+1]\n",
    "                th0 = th0 + labels[0, i]\n",
    "                changed = True\n",
    "        if not changed:\n",
    "            break\n",
    "    return (th, th0)"
   ]
  },
  {
   "cell_type": "code",
   "execution_count": 12,
   "id": "c9627b88-7172-455a-a51d-d1f78bb4e340",
   "metadata": {},
   "outputs": [
    {
     "data": {
      "text/plain": [
       "(array([[-2.],\n",
       "        [ 0.]]),\n",
       " array([[-5.]]))"
      ]
     },
     "execution_count": 12,
     "metadata": {},
     "output_type": "execute_result"
    }
   ],
   "source": [
    "perceptron(x, y, {'T': 100})"
   ]
  },
  {
   "cell_type": "code",
   "execution_count": 13,
   "id": "8abc2a00-ca6e-415c-8849-2a2ee066dbe2",
   "metadata": {},
   "outputs": [
    {
     "data": {
      "text/plain": [
       "4"
      ]
     },
     "execution_count": 13,
     "metadata": {},
     "output_type": "execute_result"
    }
   ],
   "source": [
    "t"
   ]
  },
  {
   "cell_type": "code",
   "execution_count": 16,
   "id": "c5908a18-1a11-4005-bd99-68991628ac9e",
   "metadata": {},
   "outputs": [],
   "source": [
    "def averaged_perceptron(data, labels, params={}, hook=None):\n",
    "    # if T not in params, default to 100\n",
    "    T = params.get('T', 100)\n",
    "\n",
    "    # Your implementation here\n",
    "    d, n = data.shape\n",
    "    th = np.zeros((d, 1))\n",
    "    th0 = np.zeros((1, 1))\n",
    "    ths = np.zeros((d, 1))\n",
    "    th0s = np.zeros((1, 1))\n",
    "\n",
    "    for t in range(T):\n",
    "        changed = False\n",
    "        for i in range(n):\n",
    "            if labels[0, i] * (np.dot(th.T, data[:, i : i+1]) + th0[0, 0]) <= 0:\n",
    "                th = th + labels[0, i] * data[:, i : i+1]\n",
    "                th0 = th0 + labels[0, i]\n",
    "                changed = True\n",
    "            ths = ths + th\n",
    "            th0s = th0s + th0\n",
    "    return ths/(n*T), th0s/(n*T)"
   ]
  },
  {
   "cell_type": "code",
   "execution_count": 17,
   "id": "cba1bafd-b82d-43d1-aa05-63192e922bd3",
   "metadata": {},
   "outputs": [
    {
     "data": {
      "text/plain": [
       "(array([[-2.014],\n",
       "        [ 0.022]]),\n",
       " array([[-4.928]]))"
      ]
     },
     "execution_count": 17,
     "metadata": {},
     "output_type": "execute_result"
    }
   ],
   "source": [
    "averaged_perceptron(x, y, {'T': 100})"
   ]
  },
  {
   "cell_type": "code",
   "execution_count": null,
   "id": "1d99c11a-987e-40e1-a948-dd78564bf330",
   "metadata": {},
   "outputs": [],
   "source": [
    "def eval_classifier(learner, data_train, labels_train, data_test, labels_test):\n",
    "    "
   ]
  },
  {
   "cell_type": "code",
   "execution_count": 24,
   "id": "21588cf2-0fdc-422b-a8a5-2da5f6720f3f",
   "metadata": {},
   "outputs": [
    {
     "data": {
      "text/plain": [
       "array([0., 1., 2., 3., 4., 5., 6., 7.])"
      ]
     },
     "execution_count": 24,
     "metadata": {},
     "output_type": "execute_result"
    }
   ],
   "source": [
    "z = np.arange(8.0)\n",
    "z"
   ]
  },
  {
   "cell_type": "code",
   "execution_count": 26,
   "id": "1ebf9c0c-2fd3-4811-b6e7-3ede21294b67",
   "metadata": {},
   "outputs": [
    {
     "data": {
      "text/plain": [
       "[array([0., 1., 2.]), array([3., 4., 5.]), array([6., 7.])]"
      ]
     },
     "execution_count": 26,
     "metadata": {},
     "output_type": "execute_result"
    }
   ],
   "source": [
    "np.array_split(z, 3)"
   ]
  },
  {
   "cell_type": "code",
   "execution_count": 27,
   "id": "863ae4b8-deb8-4618-be03-6c4e0cf659a1",
   "metadata": {},
   "outputs": [
    {
     "data": {
      "text/plain": [
       "array([0., 1., 2., 3., 4., 5., 6., 7., 8.])"
      ]
     },
     "execution_count": 27,
     "metadata": {},
     "output_type": "execute_result"
    }
   ],
   "source": [
    "w = np.arange(9.0)\n",
    "w"
   ]
  },
  {
   "cell_type": "code",
   "execution_count": 28,
   "id": "1bff98c9-6ed8-46fc-99dd-f524909385e0",
   "metadata": {},
   "outputs": [
    {
     "data": {
      "text/plain": [
       "[array([0., 1., 2.]), array([3., 4.]), array([5., 6.]), array([7., 8.])]"
      ]
     },
     "execution_count": 28,
     "metadata": {},
     "output_type": "execute_result"
    }
   ],
   "source": [
    "np.array_split(w, 4)"
   ]
  },
  {
   "cell_type": "code",
   "execution_count": 34,
   "id": "dcb07c85-9351-4e17-9689-07c98d1841e0",
   "metadata": {},
   "outputs": [
    {
     "data": {
      "text/plain": [
       "[array([[-3, -1],\n",
       "        [ 2,  1]]),\n",
       " array([[-1,  2],\n",
       "        [-1,  2]]),\n",
       " array([[ 1],\n",
       "        [-1]])]"
      ]
     },
     "execution_count": 34,
     "metadata": {},
     "output_type": "execute_result"
    }
   ],
   "source": [
    "np.array_split(x, 3, axis=1)"
   ]
  },
  {
   "cell_type": "code",
   "execution_count": 35,
   "id": "71fcb8ea-8aec-4ccf-afcc-70d114f4154c",
   "metadata": {},
   "outputs": [
    {
     "data": {
      "text/plain": [
       "array([[-3, -1, -1,  2,  1],\n",
       "       [ 2,  1, -1,  2, -1]])"
      ]
     },
     "execution_count": 35,
     "metadata": {},
     "output_type": "execute_result"
    }
   ],
   "source": [
    "np.concatenate((np.array_split(x, 3, axis=1)), axis=1)"
   ]
  },
  {
   "cell_type": "code",
   "execution_count": 36,
   "id": "38c0d0b1-9982-49e6-9c6e-9a1362cddd5d",
   "metadata": {},
   "outputs": [
    {
     "data": {
      "text/plain": [
       "list"
      ]
     },
     "execution_count": 36,
     "metadata": {},
     "output_type": "execute_result"
    }
   ],
   "source": [
    "type(np.array_split(x, 3, axis=1))"
   ]
  },
  {
   "cell_type": "code",
   "execution_count": 37,
   "id": "09fd0e1d-5de4-4579-9f7f-0f811402cbba",
   "metadata": {},
   "outputs": [],
   "source": [
    "D = np.array_split(x, 3, axis=1)"
   ]
  },
  {
   "cell_type": "code",
   "execution_count": 38,
   "id": "da1df11d-44d5-45b6-84a6-d92244f4b0d4",
   "metadata": {},
   "outputs": [
    {
     "data": {
      "text/plain": [
       "array([[-1,  2],\n",
       "       [-1,  2]])"
      ]
     },
     "execution_count": 38,
     "metadata": {},
     "output_type": "execute_result"
    }
   ],
   "source": [
    "D[1]"
   ]
  },
  {
   "cell_type": "code",
   "execution_count": 39,
   "id": "5f3acdd9-5f27-4cdf-a767-9dba306ad8c7",
   "metadata": {},
   "outputs": [
    {
     "data": {
      "text/plain": [
       "array([[-1,  2,  1],\n",
       "       [-1,  2, -1]])"
      ]
     },
     "execution_count": 39,
     "metadata": {},
     "output_type": "execute_result"
    }
   ],
   "source": [
    "np.concatenate((D[1:3]), axis=1)"
   ]
  },
  {
   "cell_type": "code",
   "execution_count": 46,
   "id": "16156242-c9ba-45cf-9850-26146f91c44d",
   "metadata": {},
   "outputs": [
    {
     "data": {
      "text/plain": [
       "array([[-3, -1,  1],\n",
       "       [ 2,  1, -1]])"
      ]
     },
     "execution_count": 46,
     "metadata": {},
     "output_type": "execute_result"
    }
   ],
   "source": [
    "np.concatenate((D[:1] + D[2:]), axis=1)"
   ]
  },
  {
   "cell_type": "code",
   "execution_count": 41,
   "id": "5a14cff1-a391-44bb-b44b-a3a0e35669b6",
   "metadata": {},
   "outputs": [
    {
     "data": {
      "text/plain": [
       "[array([[-3, -1],\n",
       "        [ 2,  1]])]"
      ]
     },
     "execution_count": 41,
     "metadata": {},
     "output_type": "execute_result"
    }
   ],
   "source": [
    "D[:1]"
   ]
  },
  {
   "cell_type": "code",
   "execution_count": 42,
   "id": "de1da70a-09ef-4142-9746-9b7d7f8951e0",
   "metadata": {},
   "outputs": [
    {
     "data": {
      "text/plain": [
       "[array([[ 1],\n",
       "        [-1]])]"
      ]
     },
     "execution_count": 42,
     "metadata": {},
     "output_type": "execute_result"
    }
   ],
   "source": [
    "D[2:3]"
   ]
  },
  {
   "cell_type": "code",
   "execution_count": 44,
   "id": "49aacc96-06ee-4d88-a05d-34dc72f6240b",
   "metadata": {},
   "outputs": [
    {
     "data": {
      "text/plain": [
       "array([[-3, -1,  1],\n",
       "       [ 2,  1, -1]])"
      ]
     },
     "execution_count": 44,
     "metadata": {},
     "output_type": "execute_result"
    }
   ],
   "source": [
    "np.concatenate((D[0], D[2]), axis=1)"
   ]
  },
  {
   "cell_type": "code",
   "execution_count": null,
   "id": "35f9cc28-be28-4fe6-9c1f-1e28997a494c",
   "metadata": {},
   "outputs": [],
   "source": []
  }
 ],
 "metadata": {
  "kernelspec": {
   "display_name": "Python 3 (ipykernel)",
   "language": "python",
   "name": "python3"
  },
  "language_info": {
   "codemirror_mode": {
    "name": "ipython",
    "version": 3
   },
   "file_extension": ".py",
   "mimetype": "text/x-python",
   "name": "python",
   "nbconvert_exporter": "python",
   "pygments_lexer": "ipython3",
   "version": "3.8.10"
  }
 },
 "nbformat": 4,
 "nbformat_minor": 5
}
