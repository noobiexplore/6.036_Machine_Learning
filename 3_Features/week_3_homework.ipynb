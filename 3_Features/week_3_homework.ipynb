{
 "cells": [
  {
   "cell_type": "code",
   "execution_count": 1,
   "id": "8aab410d-2a19-4c2f-ba0c-5a46c8547eed",
   "metadata": {},
   "outputs": [],
   "source": [
    "import numpy as np"
   ]
  },
  {
   "cell_type": "code",
   "execution_count": 14,
   "id": "d691b416-2d31-47fe-a1d5-3c7da81244d0",
   "metadata": {},
   "outputs": [],
   "source": [
    "def perceptron(data, labels, params={}, hook=None):\n",
    "    # if T not in params, default to 100\n",
    "    T = params.get('T', 100)\n",
    "    # Your implementation here\n",
    "    d, n = data.shape\n",
    "    th = np.zeros((d, 1))\n",
    "    th0 = np.zeros((1, 1))\n",
    "    mistakes = 0\n",
    "\n",
    "    for t in range(T):\n",
    "        changed = False\n",
    "        for i in range(n):\n",
    "            if labels[0, i] * (np.dot(th.T, data[:, i:i+1]) + th0[0, 0]) <= 0:\n",
    "                th = th + labels[0, i] * data[:, i:i+1]\n",
    "                mistakes += 1\n",
    "                th0 = th0 + labels[0, i]\n",
    "                changed = True\n",
    "        if not changed:\n",
    "            break\n",
    "    return (th, th0)"
   ]
  },
  {
   "cell_type": "code",
   "execution_count": 13,
   "id": "7b3074a8-d2d0-45ce-9ef0-2fe0d5109b6f",
   "metadata": {},
   "outputs": [
    {
     "data": {
      "text/plain": [
       "array([[1, 1, 3, 3],\n",
       "       [3, 1, 4, 2]])"
      ]
     },
     "execution_count": 13,
     "metadata": {},
     "output_type": "execute_result"
    }
   ],
   "source": [
    "data = np.array([[1, 1, 3, 3],[3, 1, 4, 2]])\n",
    "data"
   ]
  },
  {
   "cell_type": "code",
   "execution_count": 14,
   "id": "afd8a3fc-5340-41b4-bfc9-1a78f69f136d",
   "metadata": {},
   "outputs": [
    {
     "data": {
      "text/plain": [
       "array([[-1, -1,  1,  1]])"
      ]
     },
     "execution_count": 14,
     "metadata": {},
     "output_type": "execute_result"
    }
   ],
   "source": [
    "labels = np.array([[-1, -1, 1, 1]])\n",
    "labels"
   ]
  },
  {
   "cell_type": "code",
   "execution_count": 17,
   "id": "ddc86fda-ac28-4007-8736-877d69c79ffa",
   "metadata": {},
   "outputs": [
    {
     "data": {
      "text/plain": [
       "(array([[-2.]]), array([[7.]]))"
      ]
     },
     "execution_count": 17,
     "metadata": {},
     "output_type": "execute_result"
    }
   ],
   "source": [
    "perceptron(data, labels, {'T':100})"
   ]
  },
  {
   "cell_type": "code",
   "execution_count": 15,
   "id": "6ad53ed4-791d-4bfa-b1b0-998913aab64c",
   "metadata": {},
   "outputs": [
    {
     "data": {
      "text/plain": [
       "array([[0],\n",
       "       [1]])"
      ]
     },
     "execution_count": 15,
     "metadata": {},
     "output_type": "execute_result"
    }
   ],
   "source": [
    "th = np.array([[0, 1]]).T\n",
    "th"
   ]
  },
  {
   "cell_type": "code",
   "execution_count": 16,
   "id": "91ee6d31-a025-4a71-ad67-5531a252d968",
   "metadata": {},
   "outputs": [
    {
     "data": {
      "text/plain": [
       "-3"
      ]
     },
     "execution_count": 16,
     "metadata": {},
     "output_type": "execute_result"
    }
   ],
   "source": [
    "th0 = -3\n",
    "th0"
   ]
  },
  {
   "cell_type": "code",
   "execution_count": 17,
   "id": "ea32dbf7-272d-4a73-abe2-efd76ce326a4",
   "metadata": {},
   "outputs": [
    {
     "data": {
      "text/plain": [
       "1.0"
      ]
     },
     "execution_count": 17,
     "metadata": {},
     "output_type": "execute_result"
    }
   ],
   "source": [
    "np.linalg.norm(th)"
   ]
  },
  {
   "cell_type": "markdown",
   "id": "80170240-6b75-42f0-9083-6c6d61191345",
   "metadata": {},
   "source": [
    "**multiplying a section of an array by a scalar**"
   ]
  },
  {
   "cell_type": "code",
   "execution_count": 114,
   "id": "52200f8d-ca5a-402a-8f06-bcd730351f63",
   "metadata": {},
   "outputs": [
    {
     "data": {
      "text/plain": [
       "array([[0.2, 0.8, 0.2, 0.8],\n",
       "       [0.2, 0.2, 0.8, 0.8],\n",
       "       [1. , 1. , 1. , 1. ]])"
      ]
     },
     "execution_count": 114,
     "metadata": {},
     "output_type": "execute_result"
    }
   ],
   "source": [
    "new_data = np.copy(data)\n",
    "new_data[:1, :] *= 0.001\n",
    "new_data"
   ]
  },
  {
   "cell_type": "markdown",
   "id": "a2c48474-275e-40e9-ac96-863cf35f5590",
   "metadata": {},
   "source": [
    "**finding margin**"
   ]
  },
  {
   "cell_type": "code",
   "execution_count": 18,
   "id": "4f02d6b2-cb7e-4cd8-b1c3-6491671977fd",
   "metadata": {},
   "outputs": [
    {
     "data": {
      "text/plain": [
       "array([[ 0.,  2.,  1., -1.]])"
      ]
     },
     "execution_count": 18,
     "metadata": {},
     "output_type": "execute_result"
    }
   ],
   "source": [
    "gamma = ((np.dot(th.T, data) + th0)*labels)/np.linalg.norm(th)\n",
    "gamma"
   ]
  },
  {
   "cell_type": "code",
   "execution_count": 12,
   "id": "5ab08a0a-6d40-40ad-bb28-3740a2e62571",
   "metadata": {},
   "outputs": [
    {
     "data": {
      "text/plain": [
       "-1.414213562373095"
      ]
     },
     "execution_count": 12,
     "metadata": {},
     "output_type": "execute_result"
    }
   ],
   "source": [
    "np.min(gamma)"
   ]
  },
  {
   "cell_type": "code",
   "execution_count": 15,
   "id": "714d4da7-a55e-4d42-8ada-c682a9fe00ee",
   "metadata": {},
   "outputs": [
    {
     "data": {
      "text/plain": [
       "4"
      ]
     },
     "execution_count": 15,
     "metadata": {},
     "output_type": "execute_result"
    }
   ],
   "source": [
    "data.shape[1]"
   ]
  },
  {
   "cell_type": "markdown",
   "id": "6b7305fd-1d34-4ce1-8342-65f032bc01b1",
   "metadata": {},
   "source": [
    "**finding radius**"
   ]
  },
  {
   "cell_type": "code",
   "execution_count": 117,
   "id": "f51cb829-b0d2-4b5b-ae30-b82e58528ca6",
   "metadata": {},
   "outputs": [
    {
     "data": {
      "text/plain": [
       "[1.0392304845413265, 1.2961481396815722, 1.2961481396815722, 1.50996688705415]"
      ]
     },
     "execution_count": 117,
     "metadata": {},
     "output_type": "execute_result"
    }
   ],
   "source": [
    "radius = []\n",
    "for i in range(new_data.shape[1]):\n",
    "    radius.append(np.linalg.norm(new_data[:, i:i+1]))\n",
    "radius"
   ]
  },
  {
   "cell_type": "code",
   "execution_count": 118,
   "id": "6763e4b3-b4c7-4c3d-9413-7cd067c7ad82",
   "metadata": {},
   "outputs": [
    {
     "data": {
      "text/plain": [
       "5.627904908886135"
      ]
     },
     "execution_count": 118,
     "metadata": {},
     "output_type": "execute_result"
    }
   ],
   "source": [
    "max(radius)/0.2683"
   ]
  },
  {
   "cell_type": "markdown",
   "id": "97d3cd8e-7bad-4423-ad4e-0183e993ac00",
   "metadata": {},
   "source": [
    "**One Hot Encoding**"
   ]
  },
  {
   "cell_type": "code",
   "execution_count": 22,
   "id": "7f49fef4-3853-408f-b81f-d5752bfadf26",
   "metadata": {},
   "outputs": [],
   "source": [
    "def one_hot(x, k):\n",
    "    enc = np.zeros((k, 1))\n",
    "    enc[x-1, 0] = 1\n",
    "    return enc"
   ]
  },
  {
   "cell_type": "code",
   "execution_count": 23,
   "id": "0ea610db-b825-4cce-bde5-411eca0507f6",
   "metadata": {},
   "outputs": [
    {
     "data": {
      "text/plain": [
       "array([[0.],\n",
       "       [0.],\n",
       "       [1.],\n",
       "       [0.],\n",
       "       [0.],\n",
       "       [0.],\n",
       "       [0.]])"
      ]
     },
     "execution_count": 23,
     "metadata": {},
     "output_type": "execute_result"
    }
   ],
   "source": [
    "one_hot(3, 7)"
   ]
  },
  {
   "cell_type": "code",
   "execution_count": 44,
   "id": "f22292eb-cf25-408f-b199-03c4217ea79a",
   "metadata": {},
   "outputs": [],
   "source": [
    "oneHot = np.zeros((6, data.shape[1]))\n",
    "for i in range(data.shape[1]):\n",
    "    oneHot[:, i:i+1] = one_hot(data[0, i], 6)"
   ]
  },
  {
   "cell_type": "code",
   "execution_count": 45,
   "id": "caa58f35-f980-431a-abce-6c4055646344",
   "metadata": {},
   "outputs": [
    {
     "data": {
      "text/plain": [
       "array([[1., 0., 0., 0., 0., 0.],\n",
       "       [0., 1., 0., 0., 0., 0.],\n",
       "       [0., 0., 1., 0., 0., 0.],\n",
       "       [0., 0., 0., 1., 0., 0.],\n",
       "       [0., 0., 0., 0., 1., 0.],\n",
       "       [0., 0., 0., 0., 0., 1.]])"
      ]
     },
     "execution_count": 45,
     "metadata": {},
     "output_type": "execute_result"
    }
   ],
   "source": [
    "oneHot"
   ]
  },
  {
   "cell_type": "code",
   "execution_count": 49,
   "id": "01666088-afa2-4afd-b5bf-0d80adf90d1f",
   "metadata": {},
   "outputs": [
    {
     "data": {
      "text/plain": [
       "array([[ 1.],\n",
       "       [ 1.],\n",
       "       [-2.],\n",
       "       [-2.],\n",
       "       [ 1.],\n",
       "       [ 1.]])"
      ]
     },
     "execution_count": 49,
     "metadata": {},
     "output_type": "execute_result"
    }
   ],
   "source": [
    "th, th0 = perceptron(oneHot, labels, {'T':500})\n",
    "th"
   ]
  },
  {
   "cell_type": "code",
   "execution_count": 50,
   "id": "a5e6eaf5-12ba-4d6f-bf8c-20f0db8d6511",
   "metadata": {},
   "outputs": [
    {
     "data": {
      "text/plain": [
       "array([[0.]])"
      ]
     },
     "execution_count": 50,
     "metadata": {},
     "output_type": "execute_result"
    }
   ],
   "source": [
    "th0"
   ]
  },
  {
   "cell_type": "code",
   "execution_count": 36,
   "id": "4aa16b48-dd88-442e-9446-7f32ce91df34",
   "metadata": {},
   "outputs": [
    {
     "data": {
      "text/plain": [
       "array([[1., 0.],\n",
       "       [0., 0.],\n",
       "       [0., 0.],\n",
       "       [0., 0.],\n",
       "       [0., 0.],\n",
       "       [0., 1.]])"
      ]
     },
     "execution_count": 36,
     "metadata": {},
     "output_type": "execute_result"
    }
   ],
   "source": [
    "x = np.concatenate((one_hot(1, 6), one_hot(6,6)), axis=1)\n",
    "x"
   ]
  },
  {
   "cell_type": "code",
   "execution_count": 38,
   "id": "cb2a40a8-33bf-4945-b9eb-f8ddfb0efa8d",
   "metadata": {},
   "outputs": [
    {
     "data": {
      "text/plain": [
       "array([[0., 0.]])"
      ]
     },
     "execution_count": 38,
     "metadata": {},
     "output_type": "execute_result"
    }
   ],
   "source": [
    "(np.dot(th.T, x) + th0)"
   ]
  },
  {
   "cell_type": "code",
   "execution_count": 41,
   "id": "935ffc04-22d6-4e93-b01a-d19bc4fd0b73",
   "metadata": {},
   "outputs": [
    {
     "data": {
      "text/plain": [
       "array([[0., 0.]])"
      ]
     },
     "execution_count": 41,
     "metadata": {},
     "output_type": "execute_result"
    }
   ],
   "source": [
    "np.dot(th.T, x) + th0"
   ]
  },
  {
   "cell_type": "code",
   "execution_count": 52,
   "id": "e2206692-dbd5-47f2-929c-001afa45d83e",
   "metadata": {},
   "outputs": [
    {
     "data": {
      "text/plain": [
       "[3.0, 66.0, 231.0, 496.0, 861.0, 1326.0]"
      ]
     },
     "execution_count": 52,
     "metadata": {},
     "output_type": "execute_result"
    }
   ],
   "source": [
    "order = [1, 10, 20, 30, 40, 50]\n",
    "terms = []\n",
    "for o in order:\n",
    "    terms.append(((o+1)*(o+2))/2)\n",
    "terms"
   ]
  },
  {
   "cell_type": "code",
   "execution_count": 5,
   "id": "de4082d8-d22e-4ff8-8c58-253fef9704a6",
   "metadata": {},
   "outputs": [
    {
     "data": {
      "text/plain": [
       "array([[0.2, 0.8, 0.2, 0.8],\n",
       "       [0.2, 0.2, 0.8, 0.8],\n",
       "       [1. , 1. , 1. , 1. ]])"
      ]
     },
     "execution_count": 5,
     "metadata": {},
     "output_type": "execute_result"
    }
   ],
   "source": [
    "idx_data = np.array(([[0.2, 0.8, 0.2, 0.8],\n",
    "       [0.2, 0.2, 0.8, 0.8],\n",
    "       [1. , 1. , 1. , 1. ]]))\n",
    "idx_data"
   ]
  },
  {
   "cell_type": "code",
   "execution_count": 13,
   "id": "9297be14-6595-4368-8402-611a109e64ba",
   "metadata": {},
   "outputs": [
    {
     "data": {
      "text/plain": [
       "[0, 1, 2, 3]"
      ]
     },
     "execution_count": 13,
     "metadata": {},
     "output_type": "execute_result"
    }
   ],
   "source": [
    "idx = list(range(idx_data.shape[1]))\n",
    "idx"
   ]
  },
  {
   "cell_type": "code",
   "execution_count": 14,
   "id": "de7094c4-529c-44a7-a2e1-18202319b841",
   "metadata": {},
   "outputs": [
    {
     "data": {
      "text/plain": [
       "array([[0.2, 0.8, 0.2, 0.8],\n",
       "       [0.2, 0.2, 0.8, 0.8],\n",
       "       [1. , 1. , 1. , 1. ]])"
      ]
     },
     "execution_count": 14,
     "metadata": {},
     "output_type": "execute_result"
    }
   ],
   "source": [
    "idx_data[:, idx]"
   ]
  },
  {
   "cell_type": "code",
   "execution_count": 33,
   "id": "64db14b5-2c58-48b7-a564-024069ab3b4b",
   "metadata": {},
   "outputs": [],
   "source": [
    "def col_average_features(x):\n",
    "    \"\"\"\n",
    "    @param x (m,n) array with values in (0,1)\n",
    "    @return (n,1) array where each entry is the average of a column\n",
    "    \"\"\"\n",
    "    m, _ = x.shape\n",
    "    col_sum = np.array([np.sum(x, axis=0)]).T\n",
    "    return col_sum/m"
   ]
  },
  {
   "cell_type": "code",
   "execution_count": 34,
   "id": "5b3a2d47-3b4a-40cb-a45f-b397ef4d1062",
   "metadata": {},
   "outputs": [],
   "source": [
    "def row_average_features(x):\n",
    "    \"\"\"\n",
    "    @param x (m,n) array with values in (0,1)\n",
    "    @return (m,1) array where each entry is the average of a row\n",
    "    \"\"\"\n",
    "    _, n = x.shape\n",
    "    row_sum = np.array([np.sum(x, axis=1)]).T\n",
    "    return row_sum/n"
   ]
  },
  {
   "cell_type": "code",
   "execution_count": 35,
   "id": "e65a0342-f9b0-438c-b57e-28dd0fe8196a",
   "metadata": {},
   "outputs": [
    {
     "data": {
      "text/plain": [
       "array([[2.],\n",
       "       [2.],\n",
       "       [4.]])"
      ]
     },
     "execution_count": 35,
     "metadata": {},
     "output_type": "execute_result"
    }
   ],
   "source": [
    "np.array([np.sum(idx_data, axis=1)]).T"
   ]
  },
  {
   "cell_type": "code",
   "execution_count": 36,
   "id": "9c9f0809-af87-4087-8cf6-c0f4c8f3bd10",
   "metadata": {},
   "outputs": [
    {
     "data": {
      "text/plain": [
       "array([[0.5],\n",
       "       [0.5],\n",
       "       [1. ]])"
      ]
     },
     "execution_count": 36,
     "metadata": {},
     "output_type": "execute_result"
    }
   ],
   "source": [
    "row_average_features(idx_data)"
   ]
  },
  {
   "cell_type": "code",
   "execution_count": 29,
   "id": "b100e623-25c5-4329-aa31-83ab4d0ff062",
   "metadata": {},
   "outputs": [
    {
     "data": {
      "text/plain": [
       "4"
      ]
     },
     "execution_count": 29,
     "metadata": {},
     "output_type": "execute_result"
    }
   ],
   "source": [
    "_, n = idx_data.shape\n",
    "n"
   ]
  },
  {
   "cell_type": "code",
   "execution_count": 32,
   "id": "51d9c192-699d-4ea3-8aaa-19789cce6a78",
   "metadata": {},
   "outputs": [
    {
     "data": {
      "text/plain": [
       "5"
      ]
     },
     "execution_count": 32,
     "metadata": {},
     "output_type": "execute_result"
    }
   ],
   "source": [
    "int(5.9)"
   ]
  },
  {
   "cell_type": "code",
   "execution_count": 37,
   "id": "3f99f61e-0d55-47e0-ac57-9bd6dfb48cb2",
   "metadata": {},
   "outputs": [],
   "source": [
    "def top_bottom_features(x):\n",
    "    \"\"\"\n",
    "    @param x (m,n) array with values in (0,1)\n",
    "    @return (2,1) array where the first entry is the average of the\n",
    "    top half of the image = rows 0 to floor(m/2) [exclusive]\n",
    "    and the second entry is the average of the bottom half of the image\n",
    "    = rows floor(m/2) [inclusive] to m\n",
    "    \"\"\"\n",
    "    m, n = x.shape\n",
    "    top_half = np.sum(x[0 : int(m/2)])/(int(m/2) * n)\n",
    "    bottom_half = np.sum(x[int(m/2) : m])/ ((m - int(m/2)) * n)\n",
    "    return np.array([[top_half, bottom_half]]).T\n"
   ]
  },
  {
   "cell_type": "code",
   "execution_count": null,
   "id": "585b8ce1-d856-4053-8980-d68182406cb8",
   "metadata": {},
   "outputs": [],
   "source": []
  }
 ],
 "metadata": {
  "kernelspec": {
   "display_name": "Python 3 (ipykernel)",
   "language": "python",
   "name": "python3"
  },
  "language_info": {
   "codemirror_mode": {
    "name": "ipython",
    "version": 3
   },
   "file_extension": ".py",
   "mimetype": "text/x-python",
   "name": "python",
   "nbconvert_exporter": "python",
   "pygments_lexer": "ipython3",
   "version": "3.8.10"
  }
 },
 "nbformat": 4,
 "nbformat_minor": 5
}
