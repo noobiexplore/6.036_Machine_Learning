{
 "cells": [
  {
   "cell_type": "code",
   "execution_count": 1,
   "id": "eabec3f0-c6a3-4c47-86a3-76cfb0f9fed6",
   "metadata": {},
   "outputs": [],
   "source": [
    "import numpy as np"
   ]
  },
  {
   "cell_type": "code",
   "execution_count": 2,
   "id": "af8d34e5-bb2b-4b5b-8ee2-c8ad9dcafe1b",
   "metadata": {},
   "outputs": [],
   "source": [
    "W_1 = np.array([[1, 0, -1, 0], [0, 1, 0, -1]])\n",
    "W0_1 = np.full((4, 1), -1)\n",
    "W_2 = np.array([[1, 1, 1, 1], [-1, -1, -1, -1]]).T\n",
    "W0_2 = np.array([[0, 2]]).T\n",
    "\n",
    "X = np.array([[3, 4]]).T\n",
    "\n",
    "z_1 = np.dot(W_1.T, X) + W0_1"
   ]
  },
  {
   "cell_type": "code",
   "execution_count": 3,
   "id": "7f305987-4b9e-4864-80bf-2dafe8b7f4e1",
   "metadata": {},
   "outputs": [
    {
     "data": {
      "text/plain": [
       "array([[ 2],\n",
       "       [ 3],\n",
       "       [-4],\n",
       "       [-5]])"
      ]
     },
     "execution_count": 3,
     "metadata": {},
     "output_type": "execute_result"
    }
   ],
   "source": [
    "z_1"
   ]
  },
  {
   "cell_type": "code",
   "execution_count": 4,
   "id": "15d699be-a195-44f5-9beb-405296dbde8b",
   "metadata": {},
   "outputs": [
    {
     "data": {
      "text/plain": [
       "array([[ True],\n",
       "       [ True],\n",
       "       [False],\n",
       "       [False]])"
      ]
     },
     "execution_count": 4,
     "metadata": {},
     "output_type": "execute_result"
    }
   ],
   "source": [
    "z_1 > 0"
   ]
  },
  {
   "cell_type": "code",
   "execution_count": 6,
   "id": "5b44f2a7-bddc-4606-b8d3-681c1fb962c9",
   "metadata": {},
   "outputs": [
    {
     "data": {
      "text/plain": [
       "array([[2],\n",
       "       [3],\n",
       "       [0],\n",
       "       [0]])"
      ]
     },
     "execution_count": 6,
     "metadata": {},
     "output_type": "execute_result"
    }
   ],
   "source": [
    "z_1 * (z_1 > 0)"
   ]
  },
  {
   "cell_type": "code",
   "execution_count": null,
   "id": "45fb56b3-c19a-4ab5-92c9-f27b312f73b8",
   "metadata": {},
   "outputs": [],
   "source": []
  }
 ],
 "metadata": {
  "kernelspec": {
   "display_name": "Python 3 (ipykernel)",
   "language": "python",
   "name": "python3"
  },
  "language_info": {
   "codemirror_mode": {
    "name": "ipython",
    "version": 3
   },
   "file_extension": ".py",
   "mimetype": "text/x-python",
   "name": "python",
   "nbconvert_exporter": "python",
   "pygments_lexer": "ipython3",
   "version": "3.10.12"
  }
 },
 "nbformat": 4,
 "nbformat_minor": 5
}
