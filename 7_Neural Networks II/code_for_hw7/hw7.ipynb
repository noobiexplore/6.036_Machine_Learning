{
 "cells": [
  {
   "cell_type": "code",
   "execution_count": 1,
   "id": "72064ca9-c643-46b0-9070-410a629bdab5",
   "metadata": {},
   "outputs": [],
   "source": [
    "import numpy as np"
   ]
  },
  {
   "cell_type": "code",
   "execution_count": 2,
   "id": "fae62b63-909e-4d53-ba3e-edf9975f4791",
   "metadata": {},
   "outputs": [],
   "source": [
    "class Module(object):\n",
    "    def sgd_step(self, lrate):\n",
    "        pass"
   ]
  },
  {
   "cell_type": "code",
   "execution_count": 3,
   "id": "376a4e74-dfc6-438e-a237-4c682e004a1f",
   "metadata": {},
   "outputs": [
    {
     "data": {
      "text/plain": [
       "array([[ 0.72857353],\n",
       "       [ 0.49828572],\n",
       "       [ 0.11834723],\n",
       "       [-0.52550008],\n",
       "       [-0.29110585]])"
      ]
     },
     "execution_count": 3,
     "metadata": {},
     "output_type": "execute_result"
    }
   ],
   "source": [
    "g = np.random.normal(0, 1, [5, 1])\n",
    "g"
   ]
  },
  {
   "cell_type": "code",
   "execution_count": 4,
   "id": "dfa3d089-765c-448f-a912-c561c2f58ae4",
   "metadata": {},
   "outputs": [
    {
     "data": {
      "text/plain": [
       "0.5286005462620245"
      ]
     },
     "execution_count": 4,
     "metadata": {},
     "output_type": "execute_result"
    }
   ],
   "source": [
    "np.sum(g)"
   ]
  },
  {
   "cell_type": "code",
   "execution_count": 5,
   "id": "45d94204-10a1-443c-ac6f-3e39286cf40b",
   "metadata": {},
   "outputs": [
    {
     "data": {
      "text/plain": [
       "array([[-0.13712645,  0.03143536,  0.51662227],\n",
       "       [ 0.26148976,  0.37021696,  0.00935355],\n",
       "       [-0.17235972,  0.20493661,  0.0023513 ],\n",
       "       [-0.01794616, -0.1867508 , -0.10064325],\n",
       "       [ 0.21741338,  0.4292686 , -0.25823008]])"
      ]
     },
     "execution_count": 5,
     "metadata": {},
     "output_type": "execute_result"
    }
   ],
   "source": [
    "w = np.random.normal(0, 1.0 * 5 ** (-.5), [5, 3])\n",
    "w"
   ]
  },
  {
   "cell_type": "code",
   "execution_count": 6,
   "id": "209182e1-2749-4ebd-b4ee-6841b2e12f23",
   "metadata": {},
   "outputs": [
    {
     "data": {
      "text/plain": [
       "array([2, 5, 9])"
      ]
     },
     "execution_count": 6,
     "metadata": {},
     "output_type": "execute_result"
    }
   ],
   "source": [
    "v = np.array([[2, 3, 4], [4, 5, 6], [7, 8, 9]])\n",
    "np.diag(v)"
   ]
  },
  {
   "cell_type": "code",
   "execution_count": 7,
   "id": "41e74e63-51fa-48da-95b3-91f02bcf7895",
   "metadata": {},
   "outputs": [],
   "source": [
    "c = np.random.randint(10, size=(5, 10, 3))"
   ]
  },
  {
   "cell_type": "code",
   "execution_count": 8,
   "id": "cc6538ca-0065-4b57-bd2b-6883e5825a7b",
   "metadata": {},
   "outputs": [
    {
     "data": {
      "text/plain": [
       "array([[ 0.72857353],\n",
       "       [ 0.49828572],\n",
       "       [ 0.11834723],\n",
       "       [-0.        ],\n",
       "       [-0.        ]])"
      ]
     },
     "execution_count": 8,
     "metadata": {},
     "output_type": "execute_result"
    }
   ],
   "source": [
    "r = g * (g > 0)\n",
    "r"
   ]
  },
  {
   "cell_type": "code",
   "execution_count": 9,
   "id": "75ff5db7-627a-4be7-a135-c8af7255a919",
   "metadata": {},
   "outputs": [
    {
     "data": {
      "text/plain": [
       "array([1, 1, 1, 0, 0])"
      ]
     },
     "execution_count": 9,
     "metadata": {},
     "output_type": "execute_result"
    }
   ],
   "source": [
    "v = 1 * (r > 0)[:, 0]\n",
    "v"
   ]
  },
  {
   "cell_type": "code",
   "execution_count": 10,
   "id": "32109721-bfca-47d8-9188-662bb591b378",
   "metadata": {},
   "outputs": [
    {
     "data": {
      "text/plain": [
       "array([[1, 0, 0, 0, 0],\n",
       "       [0, 1, 0, 0, 0],\n",
       "       [0, 0, 1, 0, 0],\n",
       "       [0, 0, 0, 0, 0],\n",
       "       [0, 0, 0, 0, 0]])"
      ]
     },
     "execution_count": 10,
     "metadata": {},
     "output_type": "execute_result"
    }
   ],
   "source": [
    "np.diag(v)"
   ]
  },
  {
   "cell_type": "code",
   "execution_count": 11,
   "id": "037f92be-8165-4c3f-ab41-ee17090e6226",
   "metadata": {},
   "outputs": [
    {
     "data": {
      "text/plain": [
       "array([[ 0.62219187],\n",
       "       [ 0.4607679 ],\n",
       "       [ 0.11779778],\n",
       "       [-0.48193383],\n",
       "       [-0.28315232]])"
      ]
     },
     "execution_count": 11,
     "metadata": {},
     "output_type": "execute_result"
    }
   ],
   "source": [
    "tanh = np.tanh(g)\n",
    "tanh"
   ]
  },
  {
   "cell_type": "code",
   "execution_count": 12,
   "id": "d414763a-0423-4111-ad72-57b87439f32b",
   "metadata": {},
   "outputs": [
    {
     "data": {
      "text/plain": [
       "array([[0.61287727],\n",
       "       [0.78769294],\n",
       "       [0.98612368],\n",
       "       [0.76773979],\n",
       "       [0.91982477]])"
      ]
     },
     "execution_count": 12,
     "metadata": {},
     "output_type": "execute_result"
    }
   ],
   "source": [
    "d_tanh = 1 - np.square(tanh)\n",
    "d_tanh"
   ]
  },
  {
   "cell_type": "code",
   "execution_count": 13,
   "id": "249e4b09-042a-45a2-b75f-6d69a1662e54",
   "metadata": {},
   "outputs": [
    {
     "data": {
      "text/plain": [
       "array([2])"
      ]
     },
     "execution_count": 13,
     "metadata": {},
     "output_type": "execute_result"
    }
   ],
   "source": [
    "np.argmax(d_tanh, axis=0)"
   ]
  },
  {
   "cell_type": "code",
   "execution_count": 14,
   "id": "e011adf5-3b87-452a-b839-d7115fb96081",
   "metadata": {},
   "outputs": [
    {
     "data": {
      "text/plain": [
       "array([2, 1, 1, 0, 1])"
      ]
     },
     "execution_count": 14,
     "metadata": {},
     "output_type": "execute_result"
    }
   ],
   "source": [
    "np.argmax(w, axis=1)"
   ]
  },
  {
   "cell_type": "code",
   "execution_count": 15,
   "id": "204e7065-6127-4610-9ced-c62c1b12cf62",
   "metadata": {},
   "outputs": [
    {
     "data": {
      "text/plain": [
       "0"
      ]
     },
     "execution_count": 15,
     "metadata": {},
     "output_type": "execute_result"
    }
   ],
   "source": [
    "np.argmax(g, axis=0)[0]"
   ]
  },
  {
   "cell_type": "code",
   "execution_count": 21,
   "id": "a09a6318-0a0c-4b09-80bd-71a9c8ed5a2e",
   "metadata": {},
   "outputs": [],
   "source": [
    "class Linear(Module):\n",
    "    def __init__(self, m, n):\n",
    "        self.m, self.n = (m, n)   # (in size, out size) \n",
    "        self.W0 = np.zeros((self.n, 1))   # (n x 1)\n",
    "        self.W = np.random.normal(0, 1.0 * m ** (-.5), (m, n))  # (m x n)\n",
    "        \n",
    "    def forward(self, A):\n",
    "        self.A = A  # (m x b)\n",
    "        return np.dot(self.W.T, self.A) + self.W0   # (n x b)\n",
    "\n",
    "    def backward(self, dLdZ):    # dLdZ is (n x b)\n",
    "        self.dLdW = np.dot(self.A, dLdZ.T)\n",
    "        self.dLdW0 = np.sum(dLdZ, axis=1, keepdims=True)\n",
    "        return np.dot(self.W, dLdZ)   # (m x b) dLdA\n",
    "\n",
    "    def sgd_step(self, lrate):\n",
    "        self.W = self.W - lrate * self.dLdW\n",
    "        self.W0 = self.W0 - lrate* self.dLdW0\n",
    "\n",
    "class ReLU(Module):    # Layer activation\n",
    "    def forward(self, Z):\n",
    "        self.A = Z * (Z > 0)\n",
    "        return self.A\n",
    "    \n",
    "    def backward(self, dLdA):\n",
    "        v = 1 * (self.A > 0)[:, 0]  # Rank 1 view\n",
    "        dAdZ = np.diag(v)\n",
    "        dLdZ = np.dot(dAdZ, dLdA)\n",
    "        return dLdZ\n",
    "\n",
    "class Tanh(Module):\n",
    "    def forward(self, Z):\n",
    "        self.A = np.tanh(Z)\n",
    "        return self.A\n",
    "    \n",
    "    def backward(self, dLdA):\n",
    "        v = 1 - np.square(self.A)\n",
    "        dAdZ = np.zeros((v.shape[1], v.shape[0], v.shape[0]))\n",
    "        dAdZ = np.diag(v)\n",
    "        dLdZ = np.dot(dAdZ, dLdA)\n",
    "        return dLdZ\n",
    "\n",
    "\n",
    "class SoftMax(Module):\n",
    "    def forward(self, Z):\n",
    "        exp = np.exp(Z)\n",
    "        self.A = exp / np.sum(exp, axis=0)\n",
    "        return self.A\n",
    "    \n",
    "    def backward(self, dLdZ):\n",
    "        return dLdZ\n",
    "    \n",
    "    def class_fun(self, Ypred):\n",
    "        return np.argmax(Ypred, axis=0)\n",
    "\n",
    "\n",
    "class NLL(Module):        # Loss\n",
    "    def forward(self, Ypred, Y):\n",
    "        self.Ypred = Ypred\n",
    "        self.Y = Y\n",
    "        nll = -((self.Y * np.log(self.Ypred)) + ((1 - self.Y) * np.log(1 - self.Ypred)))\n",
    "        return np.sum(nll) / self.Ypred.shape[0]\n",
    "\n",
    "    def backward(self):\n",
    "        return self.Ypred - self.Y\n",
    "        "
   ]
  },
  {
   "cell_type": "code",
   "execution_count": 22,
   "id": "e5013334-ffdc-4542-ae58-05be1f1e45bd",
   "metadata": {},
   "outputs": [],
   "source": [
    "class Sequential:\n",
    "    def __init__(self, modules, loss):            # List of modules, loss module\n",
    "        self.modules = modules\n",
    "        self.loss = loss\n",
    "\n",
    "    def sgd(self, X, Y, iters=1000, lrate=0.005):  # Train\n",
    "        D, N = X.shape\n",
    "        for it in range(iters):\n",
    "            i = np.random.randint(N)\n",
    "            Xt = X[:, i:i+1]\n",
    "            Yt = Y[:, i:i+1]\n",
    "\n",
    "            # feed forward computing Ypred and loss\n",
    "            Ypred = self.forward(Xt)\n",
    "            loss = self.loss.forward(Ypred, Yt)\n",
    "\n",
    "            # backward backpropagation\n",
    "            delta = self.loss.backward()\n",
    "            self.backward(delta)\n",
    "            self.sgd_step(lrate)\n",
    "\n",
    "            self.print_accuracy(it, X, y, loss, every=250)\n",
    "            \n",
    "\n",
    "    def forward(self, Xt):                        # Compute Ypred\n",
    "        for m in self.modules: Xt = m.forward(Xt)\n",
    "        return Xt\n",
    "\n",
    "    def backward(self, delta):                    # Update dLdW and dLdW0\n",
    "        # Note reversed list of modules\n",
    "        for m in self.modules[::-1]: delta = m.backward(delta)\n",
    "\n",
    "    def sgd_step(self, lrate):                    # Gradient descent step\n",
    "        for m in self.modules: m.sgd_step(lrate)\n",
    "\n",
    "    def print_accuracy(self, it, X, Y, cur_loss, every=250):\n",
    "        # Utility method to print accuracy on full dataset, should\n",
    "        # improve over time when doing SGD. Also prints current loss,\n",
    "        # which should decrease over time. Call this on each iteration\n",
    "        # of SGD!\n",
    "        if it % every == 1:\n",
    "            cf = self.modules[-1].class_fun\n",
    "            acc = np.mean(cf(self.forward(X)) == cf(Y))\n",
    "            print('Iteration =', it, '\tAcc =', acc, '\tLoss =', cur_loss)\n"
   ]
  },
  {
   "cell_type": "code",
   "execution_count": 23,
   "id": "f2b486a6-d883-4cfe-a53a-4c5d9d1125a7",
   "metadata": {},
   "outputs": [],
   "source": [
    "def super_simple_separable():\n",
    "    X = np.array([[2, 3, 9, 12],\n",
    "                  [5, 2, 6, 5]])\n",
    "    y = np.array([[1, 0, 1, 0]])\n",
    "    return X, for_softmax(y)"
   ]
  },
  {
   "cell_type": "code",
   "execution_count": 24,
   "id": "38793f60-bafa-4a21-8718-ffa99f5ec801",
   "metadata": {},
   "outputs": [],
   "source": [
    "def for_softmax(y):\n",
    "    return np.vstack([1 - y, y])"
   ]
  },
  {
   "cell_type": "markdown",
   "id": "b884d485-b5ea-4f6f-af26-03e32555d0be",
   "metadata": {},
   "source": [
    "### testing"
   ]
  },
  {
   "cell_type": "code",
   "execution_count": 25,
   "id": "3fea8fee-c100-402b-90df-dcee4b340422",
   "metadata": {},
   "outputs": [],
   "source": [
    "nn_test = Sequential([Linear(2,3), Tanh(), Linear(3,2), SoftMax()], NLL())"
   ]
  },
  {
   "cell_type": "code",
   "execution_count": 26,
   "id": "7a7cab69-7b6a-4d25-a83f-5519bf54bf62",
   "metadata": {},
   "outputs": [],
   "source": [
    "(linear_1, f_1, linear_2, f_2) = nn_test.modules\n",
    "Loss = nn_test.loss"
   ]
  },
  {
   "cell_type": "code",
   "execution_count": 27,
   "id": "2c2be4a2-d6ac-4490-a1f4-b58595a9fb14",
   "metadata": {},
   "outputs": [
    {
     "data": {
      "text/plain": [
       "(array([[ 2,  3,  9, 12],\n",
       "        [ 5,  2,  6,  5]]),\n",
       " array([[0, 1, 0, 1],\n",
       "        [1, 0, 1, 0]]))"
      ]
     },
     "execution_count": 27,
     "metadata": {},
     "output_type": "execute_result"
    }
   ],
   "source": [
    "X, Y = super_simple_separable()\n",
    "X, Y"
   ]
  },
  {
   "cell_type": "markdown",
   "id": "7373e135-d127-4511-a3f0-db2647058a26",
   "metadata": {},
   "source": [
    "#### forward pass"
   ]
  },
  {
   "cell_type": "code",
   "execution_count": 28,
   "id": "dfcf6acf-4e35-4a04-b273-acc5c7e3d5f6",
   "metadata": {},
   "outputs": [
    {
     "data": {
      "text/plain": [
       "array([[ 4.59071745,  1.60818575,  4.82455724,  3.55389366],\n",
       "       [ 0.08357941, -1.17624846, -3.52874537, -5.41496705],\n",
       "       [ 2.66545998,  2.56776679,  7.70330036,  9.49083632]])"
      ]
     },
     "execution_count": 28,
     "metadata": {},
     "output_type": "execute_result"
    }
   ],
   "source": [
    "z_1 = linear_1.forward(X)\n",
    "z_1"
   ]
  },
  {
   "cell_type": "code",
   "execution_count": 29,
   "id": "60df92cb-37c2-467f-88cb-c9cb27ec3fbb",
   "metadata": {},
   "outputs": [
    {
     "data": {
      "text/plain": [
       "array([[-0.10368238, -0.54985465,  0.68253763],\n",
       "       [ 0.95961644,  0.23665774,  0.26007694]])"
      ]
     },
     "execution_count": 29,
     "metadata": {},
     "output_type": "execute_result"
    }
   ],
   "source": [
    "linear_1.W"
   ]
  },
  {
   "cell_type": "code",
   "execution_count": 30,
   "id": "67d7ba02-d445-4c3b-ba84-354f23778c4f",
   "metadata": {},
   "outputs": [
    {
     "data": {
      "text/plain": [
       "array([[ 0.99979416,  0.92289148,  0.99987104,  0.99836393],\n",
       "       [ 0.08338533, -0.82626498, -0.99827961, -0.9999604 ],\n",
       "       [ 0.99036739,  0.98830101,  0.99999959,  0.99999999]])"
      ]
     },
     "execution_count": 30,
     "metadata": {},
     "output_type": "execute_result"
    }
   ],
   "source": [
    "a_1 = f_1.forward(z_1)\n",
    "a_1"
   ]
  },
  {
   "cell_type": "code",
   "execution_count": 31,
   "id": "6fb64ec0-0086-48d2-96f0-3694fed01e3e",
   "metadata": {},
   "outputs": [
    {
     "data": {
      "text/plain": [
       "array([[ 0.51121946,  1.37102829,  1.58214494,  1.58302355],\n",
       "       [-1.36266425, -1.4881951 , -1.56585003, -1.56544737]])"
      ]
     },
     "execution_count": 31,
     "metadata": {},
     "output_type": "execute_result"
    }
   ],
   "source": [
    "z_2 = linear_2.forward(a_1)\n",
    "z_2"
   ]
  },
  {
   "cell_type": "code",
   "execution_count": 32,
   "id": "0ab685ef-fab3-4489-9a01-d0c50b219c6a",
   "metadata": {},
   "outputs": [
    {
     "data": {
      "text/plain": [
       "array([[ 0.52043481, -0.46774467],\n",
       "       [-0.98937446,  0.17962984],\n",
       "       [ 0.07410492, -0.91884524]])"
      ]
     },
     "execution_count": 32,
     "metadata": {},
     "output_type": "execute_result"
    }
   ],
   "source": [
    "linear_2.W"
   ]
  },
  {
   "cell_type": "code",
   "execution_count": 33,
   "id": "166a557c-61f0-46d5-bd85-1312b70062ec",
   "metadata": {},
   "outputs": [
    {
     "data": {
      "text/plain": [
       "array([[0.86690702, 0.9457935 , 0.95882965, 0.95884843],\n",
       "       [0.13309298, 0.0542065 , 0.04117035, 0.04115157]])"
      ]
     },
     "execution_count": 33,
     "metadata": {},
     "output_type": "execute_result"
    }
   ],
   "source": [
    "a_2 = f_2.forward(z_2)\n",
    "a_2"
   ]
  },
  {
   "cell_type": "code",
   "execution_count": 34,
   "id": "ed70b1b4-8ad7-4f1e-a29f-a4f2fcbc0b5f",
   "metadata": {},
   "outputs": [],
   "source": [
    "Ypred = a_2"
   ]
  },
  {
   "cell_type": "code",
   "execution_count": 35,
   "id": "c40a8b81-c789-44a0-ab3a-8102151d6b5e",
   "metadata": {},
   "outputs": [
    {
     "data": {
      "text/plain": [
       "5.304497384106767"
      ]
     },
     "execution_count": 35,
     "metadata": {},
     "output_type": "execute_result"
    }
   ],
   "source": [
    "loss = Loss.forward(Ypred, Y)\n",
    "loss"
   ]
  },
  {
   "cell_type": "markdown",
   "id": "bc1ce6a6-b79c-4ff2-ae80-bdbe5138c795",
   "metadata": {},
   "source": [
    "#### backward pass"
   ]
  },
  {
   "cell_type": "code",
   "execution_count": 36,
   "id": "69bd2aeb-e450-40c4-803a-f0657c49a107",
   "metadata": {},
   "outputs": [
    {
     "data": {
      "text/plain": [
       "array([[ 0.86690702, -0.0542065 ,  0.95882965, -0.04115157],\n",
       "       [-0.86690702,  0.0542065 , -0.95882965,  0.04115157]])"
      ]
     },
     "execution_count": 36,
     "metadata": {},
     "output_type": "execute_result"
    }
   ],
   "source": [
    "dloss = Loss.backward()\n",
    "dloss"
   ]
  },
  {
   "cell_type": "code",
   "execution_count": 37,
   "id": "f11fc65d-4cc3-4c85-b7b0-e41a7738ef74",
   "metadata": {},
   "outputs": [
    {
     "data": {
      "text/plain": [
       "array([[ 0.86690702, -0.0542065 ,  0.95882965, -0.04115157],\n",
       "       [-0.86690702,  0.0542065 , -0.95882965,  0.04115157]])"
      ]
     },
     "execution_count": 37,
     "metadata": {},
     "output_type": "execute_result"
    }
   ],
   "source": [
    "dL_dz2 = f_2.backward(dloss)\n",
    "dL_dz2"
   ]
  },
  {
   "cell_type": "code",
   "execution_count": 38,
   "id": "3c591116-4ece-468a-baff-1aac6592c8cf",
   "metadata": {},
   "outputs": [
    {
     "data": {
      "text/plain": [
       "array([[ 0.85665973, -0.05356575,  0.94749578, -0.04066514],\n",
       "       [-1.01341803,  0.06336763, -1.12087598,  0.04810636],\n",
       "       [ 0.86079546, -0.05382435,  0.95207005, -0.04086146]])"
      ]
     },
     "execution_count": 38,
     "metadata": {},
     "output_type": "execute_result"
    }
   ],
   "source": [
    "dL_da1 = linear_2.backward(dL_dz2)\n",
    "dL_da1"
   ]
  },
  {
   "cell_type": "code",
   "execution_count": 39,
   "id": "34ea8462-41cc-474c-b211-696be3f818d0",
   "metadata": {},
   "outputs": [
    {
     "data": {
      "text/plain": [
       "array([[ 0.99979416,  0.92289148,  0.99987104,  0.99836393],\n",
       "       [ 0.08338533, -0.82626498, -0.99827961, -0.9999604 ],\n",
       "       [ 0.99036739,  0.98830101,  0.99999959,  0.99999999]])"
      ]
     },
     "execution_count": 39,
     "metadata": {},
     "output_type": "execute_result"
    }
   ],
   "source": [
    "f_1.A"
   ]
  },
  {
   "cell_type": "code",
   "execution_count": 40,
   "id": "addb9041-91ac-4285-b706-4408b7241bd0",
   "metadata": {},
   "outputs": [
    {
     "data": {
      "text/plain": [
       "array([[4.11646167e-04, 1.48271321e-01, 2.57897309e-04, 3.26946243e-03],\n",
       "       [9.93046886e-01, 3.17286179e-01, 3.43782073e-03, 7.91885111e-05],\n",
       "       [1.91724394e-02, 2.32611068e-02, 8.14813354e-07, 2.28257103e-08]])"
      ]
     },
     "execution_count": 40,
     "metadata": {},
     "output_type": "execute_result"
    }
   ],
   "source": [
    "v = 1 - np.square(f_1.A)\n",
    "v"
   ]
  },
  {
   "cell_type": "code",
   "execution_count": 41,
   "id": "06e0836e-48f1-4e3d-89c0-f893ac0720dc",
   "metadata": {},
   "outputs": [
    {
     "data": {
      "text/plain": [
       "array([[[0., 0., 0.],\n",
       "        [0., 0., 0.],\n",
       "        [0., 0., 0.]],\n",
       "\n",
       "       [[0., 0., 0.],\n",
       "        [0., 0., 0.],\n",
       "        [0., 0., 0.]],\n",
       "\n",
       "       [[0., 0., 0.],\n",
       "        [0., 0., 0.],\n",
       "        [0., 0., 0.]],\n",
       "\n",
       "       [[0., 0., 0.],\n",
       "        [0., 0., 0.],\n",
       "        [0., 0., 0.]]])"
      ]
     },
     "execution_count": 41,
     "metadata": {},
     "output_type": "execute_result"
    }
   ],
   "source": [
    "d, n = v.shape\n",
    "dAdZ = np.zeros((n, d, d))\n",
    "dAdZ"
   ]
  },
  {
   "cell_type": "code",
   "execution_count": 42,
   "id": "a3a5fe45-b196-423a-a0e4-1bc901be31a1",
   "metadata": {},
   "outputs": [],
   "source": [
    "for i in range(n):\n",
    "    dAdZ[i, :, :] = np.diag(v[:, i])"
   ]
  },
  {
   "cell_type": "code",
   "execution_count": 43,
   "id": "ae462714-b000-4ec4-9859-393318c62570",
   "metadata": {},
   "outputs": [
    {
     "data": {
      "text/plain": [
       "array([[[4.11646167e-04, 0.00000000e+00, 0.00000000e+00],\n",
       "        [0.00000000e+00, 9.93046886e-01, 0.00000000e+00],\n",
       "        [0.00000000e+00, 0.00000000e+00, 1.91724394e-02]],\n",
       "\n",
       "       [[1.48271321e-01, 0.00000000e+00, 0.00000000e+00],\n",
       "        [0.00000000e+00, 3.17286179e-01, 0.00000000e+00],\n",
       "        [0.00000000e+00, 0.00000000e+00, 2.32611068e-02]],\n",
       "\n",
       "       [[2.57897309e-04, 0.00000000e+00, 0.00000000e+00],\n",
       "        [0.00000000e+00, 3.43782073e-03, 0.00000000e+00],\n",
       "        [0.00000000e+00, 0.00000000e+00, 8.14813354e-07]],\n",
       "\n",
       "       [[3.26946243e-03, 0.00000000e+00, 0.00000000e+00],\n",
       "        [0.00000000e+00, 7.91885111e-05, 0.00000000e+00],\n",
       "        [0.00000000e+00, 0.00000000e+00, 2.28257103e-08]]])"
      ]
     },
     "execution_count": 43,
     "metadata": {},
     "output_type": "execute_result"
    }
   ],
   "source": [
    "dAdZ"
   ]
  },
  {
   "cell_type": "code",
   "execution_count": 44,
   "id": "24028209-df3b-4f50-9c2a-33a6eb6be971",
   "metadata": {},
   "outputs": [
    {
     "data": {
      "text/plain": [
       "array([[[ 3.52640693e-04, -2.20501370e-05,  3.90033008e-04,\n",
       "         -1.67396481e-05],\n",
       "        [-1.00637162e+00,  6.29270316e-02, -1.11308240e+00,\n",
       "          4.77718740e-02],\n",
       "        [ 1.65035488e-02, -1.03194418e-03,  1.82535054e-02,\n",
       "         -7.83413842e-04]],\n",
       "\n",
       "       [[ 1.27018070e-01, -7.94226500e-03,  1.40486452e-01,\n",
       "         -6.02947372e-03],\n",
       "        [-3.21543534e-01,  2.01056744e-02, -3.55638456e-01,\n",
       "          1.52634841e-02],\n",
       "        [ 2.00230552e-02, -1.25201407e-03,  2.21462032e-02,\n",
       "         -9.50482757e-04]],\n",
       "\n",
       "       [[ 2.20930238e-04, -1.38144636e-05,  2.44356613e-04,\n",
       "         -1.04874296e-05],\n",
       "        [-3.48394951e-03,  2.17846566e-04, -3.85337068e-03,\n",
       "          1.65381052e-04],\n",
       "        [ 7.01387638e-07, -4.38568032e-08,  7.75759392e-07,\n",
       "         -3.32944623e-08]],\n",
       "\n",
       "       [[ 2.80081680e-03, -1.75131218e-04,  3.09780187e-03,\n",
       "         -1.32953141e-04],\n",
       "        [-8.02510649e-05,  5.01798858e-06, -8.87604998e-05,\n",
       "          3.80947126e-06],\n",
       "        [ 1.96482679e-08, -1.22857913e-09,  2.17316752e-08,\n",
       "         -9.32691820e-10]]])"
      ]
     },
     "execution_count": 44,
     "metadata": {},
     "output_type": "execute_result"
    }
   ],
   "source": [
    "V = np.dot(dAdZ, dL_da1)\n",
    "V"
   ]
  },
  {
   "cell_type": "code",
   "execution_count": 45,
   "id": "76aa21e3-a5af-41fc-ae4e-74131af383ef",
   "metadata": {},
   "outputs": [],
   "source": [
    "dldz1 = np.zeros((d, n))"
   ]
  },
  {
   "cell_type": "code",
   "execution_count": 46,
   "id": "6cfe4228-2209-45d0-85de-37e186468ccb",
   "metadata": {},
   "outputs": [],
   "source": [
    "for i in range(n):\n",
    "    dldz1[:, i] = np.dot(dAdZ[i,:,:], dL_da1[:, i])"
   ]
  },
  {
   "cell_type": "code",
   "execution_count": 47,
   "id": "72694785-0ed1-4bf6-b254-9ae032d97eb3",
   "metadata": {},
   "outputs": [
    {
     "data": {
      "text/plain": [
       "array([[ 3.52640693e-04, -7.94226500e-03,  2.44356613e-04,\n",
       "        -1.32953141e-04],\n",
       "       [-1.00637162e+00,  2.01056744e-02, -3.85337068e-03,\n",
       "         3.80947126e-06],\n",
       "       [ 1.65035488e-02, -1.25201407e-03,  7.75759392e-07,\n",
       "        -9.32691820e-10]])"
      ]
     },
     "execution_count": 47,
     "metadata": {},
     "output_type": "execute_result"
    }
   ],
   "source": [
    "dldz1"
   ]
  },
  {
   "cell_type": "code",
   "execution_count": null,
   "id": "05a1ebab-bc52-435b-af6a-a200d038d2ff",
   "metadata": {},
   "outputs": [],
   "source": []
  }
 ],
 "metadata": {
  "kernelspec": {
   "display_name": "Python 3 (ipykernel)",
   "language": "python",
   "name": "python3"
  },
  "language_info": {
   "codemirror_mode": {
    "name": "ipython",
    "version": 3
   },
   "file_extension": ".py",
   "mimetype": "text/x-python",
   "name": "python",
   "nbconvert_exporter": "python",
   "pygments_lexer": "ipython3",
   "version": "3.10.12"
  }
 },
 "nbformat": 4,
 "nbformat_minor": 5
}
