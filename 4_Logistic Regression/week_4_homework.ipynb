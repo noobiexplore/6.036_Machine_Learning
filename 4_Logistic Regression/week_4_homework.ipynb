{
 "cells": [
  {
   "cell_type": "code",
   "execution_count": 1,
   "id": "78badf41-9609-48cb-bc33-32427dcbfb87",
   "metadata": {},
   "outputs": [],
   "source": [
    "import numpy as np"
   ]
  },
  {
   "cell_type": "code",
   "execution_count": 2,
   "id": "5345cc5f-7720-482c-ad01-f13cee190495",
   "metadata": {},
   "outputs": [],
   "source": [
    "data = np.array([[1.1, 1, 4],[3.1, 1, 2]])\n",
    "labels = np.array([[1, -1, -1]])\n",
    "th = np.array([[1, 1]]).T\n",
    "th0 = -4"
   ]
  },
  {
   "cell_type": "markdown",
   "id": "724fe000-603d-4a2d-9313-cce8e09f9dd3",
   "metadata": {},
   "source": [
    "**margin**  \n",
    "`gamma`"
   ]
  },
  {
   "cell_type": "code",
   "execution_count": 3,
   "id": "70a444ca-2c83-4c4e-880e-ce47884400c7",
   "metadata": {},
   "outputs": [
    {
     "data": {
      "text/plain": [
       "array([[ 0.14142136,  1.41421356, -1.41421356]])"
      ]
     },
     "execution_count": 3,
     "metadata": {},
     "output_type": "execute_result"
    }
   ],
   "source": [
    "gamma = ((np.dot(th.T, data) + th0)*labels)/np.linalg.norm(th)\n",
    "gamma"
   ]
  },
  {
   "cell_type": "code",
   "execution_count": 4,
   "id": "d6d89318-0497-4556-9625-ae7a4f8537b2",
   "metadata": {},
   "outputs": [
    {
     "data": {
      "text/plain": [
       "0.14142135623730967"
      ]
     },
     "execution_count": 4,
     "metadata": {},
     "output_type": "execute_result"
    }
   ],
   "source": [
    "np.sum(gamma)"
   ]
  },
  {
   "cell_type": "code",
   "execution_count": 5,
   "id": "5d7d38fa-2ce7-4731-93a4-bf98888e8b20",
   "metadata": {},
   "outputs": [
    {
     "data": {
      "text/plain": [
       "-1.414213562373095"
      ]
     },
     "execution_count": 5,
     "metadata": {},
     "output_type": "execute_result"
    }
   ],
   "source": [
    "np.min(gamma)"
   ]
  },
  {
   "cell_type": "code",
   "execution_count": 6,
   "id": "50d42c57-d38c-48d8-a19e-46a75c4e79f3",
   "metadata": {},
   "outputs": [
    {
     "data": {
      "text/plain": [
       "1.414213562373095"
      ]
     },
     "execution_count": 6,
     "metadata": {},
     "output_type": "execute_result"
    }
   ],
   "source": [
    "np.max(gamma)"
   ]
  },
  {
   "cell_type": "markdown",
   "id": "08397048-4feb-4394-894b-4fb7ec5623e4",
   "metadata": {},
   "source": [
    "**Hinge loss**"
   ]
  },
  {
   "cell_type": "code",
   "execution_count": 7,
   "id": "dd9e6658-b4a3-4c55-b86e-f7a73cea7c4d",
   "metadata": {},
   "outputs": [
    {
     "data": {
      "text/plain": [
       "0.7071067811865476"
      ]
     },
     "execution_count": 7,
     "metadata": {},
     "output_type": "execute_result"
    }
   ],
   "source": [
    "gamma_ref = (2**0.5)/2\n",
    "gamma_ref"
   ]
  },
  {
   "cell_type": "code",
   "execution_count": 8,
   "id": "a7770e52-0c67-48c6-8350-f1547df7f5f0",
   "metadata": {},
   "outputs": [],
   "source": [
    "data = np.array([[1.1, 1, 4],[3.1, 1, 2]])\n",
    "labels = np.array([[1, -1, -1]])\n",
    "th = np.array([[1, 1]]).T\n",
    "th0 = -4"
   ]
  },
  {
   "cell_type": "code",
   "execution_count": 9,
   "id": "dcb0147b-ec56-4402-8a2c-75b7eaafc54b",
   "metadata": {},
   "outputs": [
    {
     "data": {
      "text/plain": [
       "array([[ True, False,  True]])"
      ]
     },
     "execution_count": 9,
     "metadata": {},
     "output_type": "execute_result"
    }
   ],
   "source": [
    "idx = gamma < gamma_ref\n",
    "idx"
   ]
  },
  {
   "cell_type": "code",
   "execution_count": 10,
   "id": "f46d1714-266b-4f8f-90d1-bb55fec59361",
   "metadata": {},
   "outputs": [
    {
     "data": {
      "text/plain": [
       "array([ 0.14142136, -1.41421356])"
      ]
     },
     "execution_count": 10,
     "metadata": {},
     "output_type": "execute_result"
    }
   ],
   "source": [
    "gamma[idx]"
   ]
  },
  {
   "cell_type": "code",
   "execution_count": 11,
   "id": "1b0fd8f7-f42a-4bc9-a661-c7a4fc04da8f",
   "metadata": {},
   "outputs": [
    {
     "data": {
      "text/plain": [
       "array([[0., 0., 0.]])"
      ]
     },
     "execution_count": 11,
     "metadata": {},
     "output_type": "execute_result"
    }
   ],
   "source": [
    "L_h = np.zeros((1, 3))\n",
    "L_h"
   ]
  },
  {
   "cell_type": "code",
   "execution_count": 12,
   "id": "616076f7-d5d8-4a18-a653-6fbec0442e0e",
   "metadata": {},
   "outputs": [
    {
     "data": {
      "text/plain": [
       "array([[0.8, 0. , 3. ]])"
      ]
     },
     "execution_count": 12,
     "metadata": {},
     "output_type": "execute_result"
    }
   ],
   "source": [
    "L_h[idx] = 1 - (gamma[idx]/gamma_ref)\n",
    "L_h"
   ]
  },
  {
   "cell_type": "code",
   "execution_count": 13,
   "id": "5512802e-e5ef-4951-bf25-2dadf5fcfbe4",
   "metadata": {},
   "outputs": [],
   "source": [
    "def f1(x):\n",
    "    return float((2 * x + 3) ** 2)\n",
    "\n",
    "def df1(x):\n",
    "    return float(2 * 2 * (2 * x + 3))\n",
    "\n",
    "def f2(v):\n",
    "    x = float(v[0, 0])\n",
    "    y = float(v[1, 0])\n",
    "    return (x**2) + (y**2)\n",
    "\n",
    "def df2(v):\n",
    "    x = float(v[0, 0]); y = float(v[1, 0])\n",
    "    return np.array([[(2 * x), (2 * y)]]).T"
   ]
  },
  {
   "cell_type": "code",
   "execution_count": 14,
   "id": "275fc06b-676a-4e18-b483-16047a545266",
   "metadata": {},
   "outputs": [],
   "source": [
    "def step_size_fn(i):\n",
    "    return 0.1\n",
    "\n",
    "\n",
    "def gd(f, df, x0, step_size_fn, max_iter):\n",
    "    xs = [x0]\n",
    "    fs = [f(x0)] \n",
    "    for i in range(max_iter):\n",
    "        x_old = xs[-1]\n",
    "        x_new = x_old - (step_size_fn(i) * df(x_old))\n",
    "        xs.append(x_new)\n",
    "        fs.append(f(x_new))\n",
    "        if abs(fs[-1] - fs[-2]) < 0.00001:\n",
    "            break\n",
    "    return (xs[-1], xs, fs)"
   ]
  },
  {
   "cell_type": "code",
   "execution_count": 15,
   "id": "50c8771d-25cf-4bd4-ac01-088068f53f4c",
   "metadata": {},
   "outputs": [
    {
     "data": {
      "text/plain": [
       "array([[2.56],\n",
       "       [2.56]])"
      ]
     },
     "execution_count": 15,
     "metadata": {},
     "output_type": "execute_result"
    }
   ],
   "source": [
    "x, xs, fs = gd(f2, df2, np.array([[4, 4]]).T, step_size_fn, 400)\n",
    "xs[2]"
   ]
  },
  {
   "cell_type": "code",
   "execution_count": 16,
   "id": "7c800d49-2ef1-48f1-acad-07f0d00a6859",
   "metadata": {},
   "outputs": [
    {
     "data": {
      "text/plain": [
       "13.1072"
      ]
     },
     "execution_count": 16,
     "metadata": {},
     "output_type": "execute_result"
    }
   ],
   "source": [
    "f2(xs[2])"
   ]
  },
  {
   "cell_type": "code",
   "execution_count": 17,
   "id": "f0e2727d-1f3e-4e71-a4dd-7ed73bcc35d4",
   "metadata": {},
   "outputs": [
    {
     "data": {
      "text/plain": [
       "array([[4],\n",
       "       [5]])"
      ]
     },
     "execution_count": 17,
     "metadata": {},
     "output_type": "execute_result"
    }
   ],
   "source": [
    "v = np.array([[4, 5]]).T\n",
    "v"
   ]
  },
  {
   "cell_type": "code",
   "execution_count": 18,
   "id": "b1706a6f-77cf-40c0-a5eb-bca2d35eba5a",
   "metadata": {},
   "outputs": [
    {
     "data": {
      "text/plain": [
       "array([[ 8.],\n",
       "       [10.]])"
      ]
     },
     "execution_count": 18,
     "metadata": {},
     "output_type": "execute_result"
    }
   ],
   "source": [
    "df2(v)"
   ]
  },
  {
   "cell_type": "code",
   "execution_count": 19,
   "id": "1f378641-0f05-4013-8673-467d49f96266",
   "metadata": {},
   "outputs": [
    {
     "data": {
      "text/plain": [
       "array([[3.92],\n",
       "       [4.9 ]])"
      ]
     },
     "execution_count": 19,
     "metadata": {},
     "output_type": "execute_result"
    }
   ],
   "source": [
    "v_1 = v - (0.01 * df2(v))\n",
    "v_1"
   ]
  },
  {
   "cell_type": "code",
   "execution_count": 20,
   "id": "ccbd6995-4620-47a7-91a0-1587867b1ea1",
   "metadata": {},
   "outputs": [
    {
     "data": {
      "text/plain": [
       "5"
      ]
     },
     "execution_count": 20,
     "metadata": {},
     "output_type": "execute_result"
    }
   ],
   "source": [
    "v[1, 0]"
   ]
  },
  {
   "cell_type": "code",
   "execution_count": 21,
   "id": "9a8cb975-af94-4cc1-bc59-4433a8c79891",
   "metadata": {},
   "outputs": [],
   "source": [
    "def num_grad(f, delta=0.001):\n",
    "    def df(x):\n",
    "        d, _ = x.shape\n",
    "        delv = np.zeros((d, 1))\n",
    "        gradv = np.zeros((d, 1))\n",
    "        for i in range(d):\n",
    "            delv[i, 0] = delta\n",
    "            gradv[i, 0] = (f(x + delv) - f(x - delv)) / (2 * delta)\n",
    "            delv[i, 0] = 0\n",
    "        return gradv\n",
    "    return df"
   ]
  },
  {
   "cell_type": "code",
   "execution_count": 22,
   "id": "d32682d2-1c63-4212-a04c-cc24977efc08",
   "metadata": {},
   "outputs": [
    {
     "data": {
      "text/plain": [
       "<function __main__.num_grad.<locals>.df(x)>"
      ]
     },
     "execution_count": 22,
     "metadata": {},
     "output_type": "execute_result"
    }
   ],
   "source": [
    "num_grad(f1(2), delta=0.001)"
   ]
  },
  {
   "cell_type": "code",
   "execution_count": 23,
   "id": "1e26d383-ff81-497b-a985-b50597809355",
   "metadata": {},
   "outputs": [
    {
     "data": {
      "text/plain": [
       "([[3.9999999999991154], [3.9999999999991154]], [[2.0], [2.0]])"
      ]
     },
     "execution_count": 23,
     "metadata": {},
     "output_type": "execute_result"
    }
   ],
   "source": [
    "x = np.array([[2.0, 2.0]]).T\n",
    "ans=(num_grad(f2)(x).tolist(), x.tolist())\n",
    "ans"
   ]
  },
  {
   "cell_type": "code",
   "execution_count": 24,
   "id": "5ddb0b31-2f7f-407d-ac38-453fae16bee1",
   "metadata": {},
   "outputs": [
    {
     "data": {
      "text/plain": [
       "array([[4.],\n",
       "       [4.]])"
      ]
     },
     "execution_count": 24,
     "metadata": {},
     "output_type": "execute_result"
    }
   ],
   "source": [
    "num_grad(f2)(x)"
   ]
  },
  {
   "cell_type": "code",
   "execution_count": 25,
   "id": "883c05bb-c474-46ba-9cab-a1a7394152db",
   "metadata": {},
   "outputs": [],
   "source": [
    "def hinge(v):\n",
    "    c = 1 - v\n",
    "    idx = c <= 0\n",
    "    c[idx] = 0\n",
    "    return c"
   ]
  },
  {
   "cell_type": "code",
   "execution_count": 26,
   "id": "aa4d0982-da78-4388-ac75-fa670aac409e",
   "metadata": {},
   "outputs": [],
   "source": [
    "def hinge_loss(x, y, th, th0):\n",
    "    margin = y * (np.dot(th.T, x) + th0)\n",
    "    return hinge(margin)"
   ]
  },
  {
   "cell_type": "code",
   "execution_count": 27,
   "id": "5483228d-5ec5-4b66-b265-ae9ba75660b6",
   "metadata": {},
   "outputs": [
    {
     "data": {
      "text/plain": [
       "array([[0.8, 0. , 3. ]])"
      ]
     },
     "execution_count": 27,
     "metadata": {},
     "output_type": "execute_result"
    }
   ],
   "source": [
    "hinge_loss(data, labels, th, th0)"
   ]
  },
  {
   "cell_type": "code",
   "execution_count": 28,
   "id": "4bd3d270-f396-4ec4-8a3c-e379a43413e9",
   "metadata": {},
   "outputs": [
    {
     "data": {
      "text/plain": [
       "array([[-1. ],\n",
       "       [ 0.7],\n",
       "       [ 2. ]])"
      ]
     },
     "execution_count": 28,
     "metadata": {},
     "output_type": "execute_result"
    }
   ],
   "source": [
    "a = np.array([[-1, 0.7, 2]]).T\n",
    "a"
   ]
  },
  {
   "cell_type": "code",
   "execution_count": 29,
   "id": "d214188d-c551-482f-a8c8-598c1b545538",
   "metadata": {},
   "outputs": [
    {
     "data": {
      "text/plain": [
       "array([[False],\n",
       "       [False],\n",
       "       [ True]])"
      ]
     },
     "execution_count": 29,
     "metadata": {},
     "output_type": "execute_result"
    }
   ],
   "source": [
    "c = 1 - a\n",
    "idx = c <= 0\n",
    "idx"
   ]
  },
  {
   "cell_type": "code",
   "execution_count": 30,
   "id": "201ae091-c641-481e-9a51-ce2843ba20e5",
   "metadata": {},
   "outputs": [
    {
     "data": {
      "text/plain": [
       "array([[2. ],\n",
       "       [0.3],\n",
       "       [0. ]])"
      ]
     },
     "execution_count": 30,
     "metadata": {},
     "output_type": "execute_result"
    }
   ],
   "source": [
    "c[idx] = 0\n",
    "c"
   ]
  },
  {
   "cell_type": "markdown",
   "id": "a5c9d77d-142f-4d32-8657-936c3782875f",
   "metadata": {},
   "source": [
    "**np.invert() - Invering a numpy boolean array**"
   ]
  },
  {
   "cell_type": "code",
   "execution_count": 31,
   "id": "49951582-530f-4ba1-8cd5-011a9145b8f4",
   "metadata": {},
   "outputs": [
    {
     "data": {
      "text/plain": [
       "array([[ True],\n",
       "       [ True],\n",
       "       [False]])"
      ]
     },
     "execution_count": 31,
     "metadata": {},
     "output_type": "execute_result"
    }
   ],
   "source": [
    "np.invert(idx)"
   ]
  },
  {
   "cell_type": "code",
   "execution_count": 32,
   "id": "960caa3f-3265-4508-9add-c76afe0c025a",
   "metadata": {},
   "outputs": [
    {
     "data": {
      "text/plain": [
       "array([[2. ],\n",
       "       [0.3],\n",
       "       [0. ]])"
      ]
     },
     "execution_count": 32,
     "metadata": {},
     "output_type": "execute_result"
    }
   ],
   "source": [
    "copy = np.copy(c)\n",
    "copy"
   ]
  },
  {
   "cell_type": "code",
   "execution_count": 33,
   "id": "0169d89b-e982-46a2-8853-b8c24e13b976",
   "metadata": {},
   "outputs": [
    {
     "data": {
      "text/plain": [
       "array([[-1. ],\n",
       "       [ 0.7],\n",
       "       [ 1. ]])"
      ]
     },
     "execution_count": 33,
     "metadata": {},
     "output_type": "execute_result"
    }
   ],
   "source": [
    "copy = 1 - copy\n",
    "copy"
   ]
  },
  {
   "cell_type": "code",
   "execution_count": 34,
   "id": "c5ff02e7-baf7-439c-a519-e5ec56af2472",
   "metadata": {},
   "outputs": [
    {
     "data": {
      "text/plain": [
       "array([[2. ],\n",
       "       [0.3],\n",
       "       [0. ]])"
      ]
     },
     "execution_count": 34,
     "metadata": {},
     "output_type": "execute_result"
    }
   ],
   "source": [
    "c"
   ]
  },
  {
   "cell_type": "code",
   "execution_count": 35,
   "id": "07b05390-ac39-4971-a93c-01622569369c",
   "metadata": {},
   "outputs": [],
   "source": [
    "def d_hinge(v):\n",
    "    dv = np.copy(v)\n",
    "    idx = v < 1\n",
    "    dv[idx] = -1 \n",
    "    not_idx = np.invert(idx)\n",
    "    dv[not_idx] = 0\n",
    "    return dv"
   ]
  },
  {
   "cell_type": "code",
   "execution_count": 36,
   "id": "1856b201-634f-4ad0-8c7c-019fe82df751",
   "metadata": {},
   "outputs": [
    {
     "data": {
      "text/plain": [
       "[[0.0]]"
      ]
     },
     "execution_count": 36,
     "metadata": {},
     "output_type": "execute_result"
    }
   ],
   "source": [
    "d_hinge(np.array([[ 71.]])).tolist()"
   ]
  },
  {
   "cell_type": "code",
   "execution_count": 37,
   "id": "1faa4ae7-b7e6-40df-97bc-cfcaf4dc95ab",
   "metadata": {},
   "outputs": [
    {
     "data": {
      "text/plain": [
       "[[-1.0]]"
      ]
     },
     "execution_count": 37,
     "metadata": {},
     "output_type": "execute_result"
    }
   ],
   "source": [
    "d_hinge(np.array([[ -23.]])).tolist()"
   ]
  },
  {
   "cell_type": "code",
   "execution_count": 38,
   "id": "06136870-23a3-4c15-97d5-a4434d6efb63",
   "metadata": {},
   "outputs": [
    {
     "data": {
      "text/plain": [
       "[[0.0, -1.0]]"
      ]
     },
     "execution_count": 38,
     "metadata": {},
     "output_type": "execute_result"
    }
   ],
   "source": [
    "d_hinge(np.array([[ 71, -23.]])).tolist()"
   ]
  },
  {
   "cell_type": "code",
   "execution_count": 39,
   "id": "d892eddd-6cd5-47f7-869c-affc1ba5b5b1",
   "metadata": {},
   "outputs": [],
   "source": [
    "def d_hinge_loss_th(x, y, th, th0):\n",
    "    margin = y * (np.dot(th.T, x) + th0)\n",
    "    d_hinge_coeff = d_hinge(margin)\n",
    "    grad_hinge_loss = d_hinge_coeff * (y * x)\n",
    "    return grad_hinge_loss\n",
    "    "
   ]
  },
  {
   "cell_type": "code",
   "execution_count": 40,
   "id": "ab3d4d81-c159-442c-8538-7805c69fa067",
   "metadata": {},
   "outputs": [
    {
     "data": {
      "text/plain": [
       "array([[-1.1, -0. ,  4. ],\n",
       "       [-3.1, -0. ,  2. ]])"
      ]
     },
     "execution_count": 40,
     "metadata": {},
     "output_type": "execute_result"
    }
   ],
   "source": [
    "d_hinge_loss_th(data, labels, th, th0)"
   ]
  },
  {
   "cell_type": "code",
   "execution_count": 41,
   "id": "1c9d207f-7f42-4bc3-b623-9e68f3e53357",
   "metadata": {},
   "outputs": [],
   "source": [
    "'''Analytical partial derivative of hinge_loss wrt th0 is 0 or -y.\n",
    "    First send the margin to the d_hinge function to get the coefficient\n",
    "    0 or -1(to get the piece-wise behavior). Then multiply it with y to get the derivative'''\n",
    "# Returns the gradient of hinge_loss(x, y, th, th0) with respect to th0\n",
    "def d_hinge_loss_th0(x, y, th, th0):\n",
    "    margin = y * (np.dot(th.T, x) + th0)\n",
    "    d_hinge_coeff = d_hinge(margin)\n",
    "    partial_hinge_loss_th0 = d_hinge_coeff * y\n",
    "    return partial_hinge_loss_th0\n"
   ]
  },
  {
   "cell_type": "code",
   "execution_count": 42,
   "id": "e122fd06-33dc-4d86-b11a-8fc74f0d13c7",
   "metadata": {},
   "outputs": [
    {
     "data": {
      "text/plain": [
       "array([[-1., -0.,  1.]])"
      ]
     },
     "execution_count": 42,
     "metadata": {},
     "output_type": "execute_result"
    }
   ],
   "source": [
    "d_hinge_loss_th0(data, labels, th, th0)"
   ]
  },
  {
   "cell_type": "code",
   "execution_count": 43,
   "id": "6bc3f888-3a69-41b9-bca2-cccb0a526de4",
   "metadata": {},
   "outputs": [
    {
     "data": {
      "text/plain": [
       "array([ 2.9, -1.1])"
      ]
     },
     "execution_count": 43,
     "metadata": {},
     "output_type": "execute_result"
    }
   ],
   "source": [
    "np.sum(d_hinge_loss_th(data, labels, th, th0), axis=1)"
   ]
  },
  {
   "cell_type": "code",
   "execution_count": 44,
   "id": "0cc98e06-9d80-4c6b-b0ca-e1088f0ae16e",
   "metadata": {},
   "outputs": [
    {
     "data": {
      "text/plain": [
       "array([[ 0.96666667],\n",
       "       [-0.36666667]])"
      ]
     },
     "execution_count": 44,
     "metadata": {},
     "output_type": "execute_result"
    }
   ],
   "source": [
    "np.array([np.sum(d_hinge_loss_th(data, labels, th, th0), axis=1)]).T / 3"
   ]
  },
  {
   "cell_type": "code",
   "execution_count": 54,
   "id": "aa4c7192-8e43-4292-be58-e710af353b22",
   "metadata": {},
   "outputs": [],
   "source": [
    "def d_svm_obj_th(x, y, th, th0, lam):\n",
    "    _, n = x.shape\n",
    "    ''' Adding up all the columns of gradient of hinge loss wrt th into a single column and \n",
    "    dividing by n to get the average'''\n",
    "    avg_grad_hinge_loss_th = np.array([np.sum(d_hinge_loss_th(x, y, th, th0), axis=1)]).T / n\n",
    "    grad_J_th = avg_grad_hinge_loss_th + (lam * th)\n",
    "    return grad_J_th"
   ]
  },
  {
   "cell_type": "code",
   "execution_count": 55,
   "id": "df3b6228-0d31-46f8-aa90-ec3c38728b1c",
   "metadata": {},
   "outputs": [
    {
     "data": {
      "text/plain": [
       "array([[ 0.97666667],\n",
       "       [-0.35666667]])"
      ]
     },
     "execution_count": 55,
     "metadata": {},
     "output_type": "execute_result"
    }
   ],
   "source": [
    "d_svm_obj_th(data, labels, th, th0, 0.01)"
   ]
  },
  {
   "cell_type": "code",
   "execution_count": 47,
   "id": "268df3d8-f285-44d9-926c-161e1f53c373",
   "metadata": {},
   "outputs": [],
   "source": [
    "def d_svm_obj_th0(x, y, th, th0, lam):\n",
    "    _, n = x.shape\n",
    "    avg_partial_hinge_loss_th0 = np.array([np.sum(d_hinge_loss_th0(x, y, th, th0), axis=1)]).T / n\n",
    "    return avg_partial_hinge_loss_th0"
   ]
  },
  {
   "cell_type": "code",
   "execution_count": 48,
   "id": "e6d8f6e7-5243-410b-a24f-5db133978273",
   "metadata": {},
   "outputs": [
    {
     "data": {
      "text/plain": [
       "array([[0.]])"
      ]
     },
     "execution_count": 48,
     "metadata": {},
     "output_type": "execute_result"
    }
   ],
   "source": [
    "d_svm_obj_th0(data, labels, th, th0, 0.001)"
   ]
  },
  {
   "cell_type": "code",
   "execution_count": 49,
   "id": "1b7c0b57-b06f-4ff3-a4a5-caf55d12be73",
   "metadata": {},
   "outputs": [],
   "source": [
    "X1 = np.array([[1, 2, 3, 9, 10]])\n",
    "y1 = np.array([[1, 1, 1, -1, -1]])\n",
    "th1, th10 = np.array([[-0.31202807]]), np.array([[1.834     ]])\n",
    "X2 = np.array([[2, 3, 9, 12],\n",
    "               [5, 2, 6, 5]])\n",
    "y2 = np.array([[1, -1, 1, -1]])\n",
    "th2, th20=np.array([[ -3.,  15.]]).T, np.array([[ 2.]])\n"
   ]
  },
  {
   "cell_type": "code",
   "execution_count": 56,
   "id": "318b85e3-04d7-4c8c-b4a7-79edbfb385c1",
   "metadata": {},
   "outputs": [
    {
     "data": {
      "text/plain": [
       "array([[ 0.,  3.,  0., 12.],\n",
       "       [ 0.,  2.,  0.,  5.]])"
      ]
     },
     "execution_count": 56,
     "metadata": {},
     "output_type": "execute_result"
    }
   ],
   "source": [
    "d_L_h = d_hinge_loss_th(X2, y2, th2, th20)\n",
    "d_L_h"
   ]
  },
  {
   "cell_type": "code",
   "execution_count": 62,
   "id": "32fc71e9-8ee5-4e1e-8849-d44a436a6d32",
   "metadata": {},
   "outputs": [
    {
     "data": {
      "text/plain": [
       "array([[3.72],\n",
       "       [1.9 ]])"
      ]
     },
     "execution_count": 62,
     "metadata": {},
     "output_type": "execute_result"
    }
   ],
   "source": [
    "np.array([np.sum(d_L_h, axis=1)]).T / d_L_h.shape[1] + (0.01 * th2)"
   ]
  },
  {
   "cell_type": "code",
   "execution_count": 72,
   "id": "4579599b-27df-4ee3-9a97-e957e65f219a",
   "metadata": {},
   "outputs": [
    {
     "data": {
      "text/plain": [
       "array([[1.]])"
      ]
     },
     "execution_count": 72,
     "metadata": {},
     "output_type": "execute_result"
    }
   ],
   "source": [
    "np.ones((5, 1))[4:5]"
   ]
  },
  {
   "cell_type": "code",
   "execution_count": 77,
   "id": "161a54d8-9565-4f3b-b19d-e09d58c15e43",
   "metadata": {},
   "outputs": [],
   "source": [
    "def batch_svm_min(data, labels, lam):\n",
    "    def svm_min_step_size_fn(i):\n",
    "       return 2/(i+1)**0.5\n",
    "    # Initializing th i.e. a single vector containing [th, th0].T \n",
    "    d, n = data.shape\n",
    "    th_init = np.zeros((d+1, 1))\n",
    "    # Applying gradient descent\n",
    "    ths = [th_init]\n",
    "    svms = [svm_obj(data, labels, th_init[:d], th_init[d:d+1], lam)]\n",
    "    for i in range(100):\n",
    "        th_old = ths[-1]\n",
    "        th_new = th_old - svm_min_step_size_fn(i) * svm_obj_grad(data, labels, th_old[:d], th_old[d:d+1], lam)\n",
    "        ths.append(th_new)\n",
    "        svms.append(svm_obj(data, labels, th_new[:d], th_new[d:d+1], lam))\n",
    "        if abs(svms[-1] - svms[-2]) < 0.00001:\n",
    "            break\n",
    "    return ths[-1], ths, svms\n",
    " "
   ]
  },
  {
   "cell_type": "code",
   "execution_count": 78,
   "id": "79841489-a924-4dcd-85d2-8aa13e918966",
   "metadata": {},
   "outputs": [],
   "source": [
    "def svm_obj(x, y, th, th0, lam):\n",
    "    _, n = x.shape\n",
    "    avg_hinge_loss = np.sum(hinge_loss(x, y, th, th0)) / n\n",
    "    # SVM objective\n",
    "    J = avg_hinge_loss + (lam * ((np.linalg.norm(th)) ** 2))\n",
    "    return J\n"
   ]
  },
  {
   "cell_type": "code",
   "execution_count": 79,
   "id": "6dd5dfa7-8a36-458c-94c8-841488665c5a",
   "metadata": {},
   "outputs": [],
   "source": [
    "def svm_obj_grad(X, y, th, th0, lam):\n",
    "    svm_grad_th = d_svm_obj_th(X, y, th, th0, lam)\n",
    "    svm_grad_th0 = d_svm_obj_th0(X, y, th, th0, lam)\n",
    "    svm_grad = np.vstack((svm_grad_th, svm_grad_th0))\n",
    "    return svm_grad\n"
   ]
  },
  {
   "cell_type": "code",
   "execution_count": 80,
   "id": "aa0c30f3-e612-405f-be9b-19fad69ed93d",
   "metadata": {},
   "outputs": [
    {
     "data": {
      "text/plain": [
       "(array([[-2.63931935],\n",
       "        [ 4.54584912],\n",
       "        [-2.20596531]]),\n",
       " [array([[0.],\n",
       "         [0.],\n",
       "         [0.]]),\n",
       "  array([[-2.],\n",
       "         [ 2.],\n",
       "         [ 0.]]),\n",
       "  array([[1.18480894],\n",
       "         [4.11849192],\n",
       "         [0.35355339]]),\n",
       "  array([[-3.14668618],\n",
       "         [ 2.09301035],\n",
       "         [-0.22379688]]),\n",
       "  array([[-0.89353949],\n",
       "         [ 3.59091734],\n",
       "         [ 0.02620312]]),\n",
       "  array([[-4.24684225],\n",
       "         [ 2.02245794],\n",
       "         [-0.42101047]]),\n",
       "  array([[-2.40625741],\n",
       "         [ 3.24555148],\n",
       "         [-0.21688633]]),\n",
       "  array([[-1.27054503],\n",
       "         [ 3.99902702],\n",
       "         [-0.21688633]]),\n",
       "  array([[-3.92129705],\n",
       "         [ 2.75876242],\n",
       "         [-0.57043972]]),\n",
       "  array([[-2.41868285],\n",
       "         [ 3.75692324],\n",
       "         [-0.40377305]]),\n",
       "  array([[-1.46846985],\n",
       "         [ 4.38700269],\n",
       "         [-0.40377305]]),\n",
       "  array([[-3.72891941],\n",
       "         [ 3.32906752],\n",
       "         [-0.7052844 ]]),\n",
       "  array([[-2.42772841],\n",
       "         [ 4.19317088],\n",
       "         [-0.56094683]]),\n",
       "  array([[-2.8424069 ],\n",
       "         [ 3.91349483],\n",
       "         [-0.69962188]]),\n",
       "  array([[-1.63821198],\n",
       "         [ 4.71318671],\n",
       "         [-0.56599126]]),\n",
       "  array([[-3.57385768],\n",
       "         [ 3.80705671],\n",
       "         [-0.82419015]]),\n",
       "  array([[-2.44707075],\n",
       "         [ 4.55515319],\n",
       "         [-0.69919015]]),\n",
       "  array([[-2.80968719],\n",
       "         [ 4.31040799],\n",
       "         [-0.82045796]]),\n",
       "  array([[-2.10125591],\n",
       "         [ 4.77978056],\n",
       "         [-0.82045796]]),\n",
       "  array([[-2.44441538],\n",
       "         [ 4.54817171],\n",
       "         [-0.93516583]]),\n",
       "  array([[-2.77873241],\n",
       "         [ 4.32253091],\n",
       "         [-1.04696923]]),\n",
       "  array([[-2.122866  ],\n",
       "         [ 4.75708019],\n",
       "         [-1.04696923]]),\n",
       "  array([[-2.44176188],\n",
       "         [ 4.54185104],\n",
       "         [-1.15356958]]),\n",
       "  array([[-2.75351521],\n",
       "         [ 4.33144255],\n",
       "         [-1.25782679]]),\n",
       "  array([[-2.14001866],\n",
       "         [ 4.73792253],\n",
       "         [-1.25782679]]),\n",
       "  array([[-2.43916265],\n",
       "         [ 4.53602736],\n",
       "         [-1.35782679]]),\n",
       "  array([[-2.73238014],\n",
       "         [ 4.33813205],\n",
       "         [-1.45588486]]),\n",
       "  array([[-2.15397817],\n",
       "         [ 4.72136248],\n",
       "         [-1.45588486]]),\n",
       "  array([[-2.4366374 ],\n",
       "         [ 4.53059574],\n",
       "         [-1.55037598]]),\n",
       "  array([[-2.71427546],\n",
       "         [ 4.34321778],\n",
       "         [-1.64322365]]),\n",
       "  array([[-1.89170052],\n",
       "         [ 4.88935442],\n",
       "         [-1.55193655]]),\n",
       "  array([[-3.23806076],\n",
       "         [ 4.25897955],\n",
       "         [-1.73154186]]),\n",
       "  array([[-2.44142081],\n",
       "         [ 4.78780386],\n",
       "         [-1.64315351]]),\n",
       "  array([[-2.7016873 ],\n",
       "         [ 4.61205931],\n",
       "         [-1.73019234]]),\n",
       "  array([[-2.9580085 ],\n",
       "         [ 4.4389788 ],\n",
       "         [-1.81594163]]),\n",
       "  array([[-2.19636968],\n",
       "         [ 4.9445707 ],\n",
       "         [-1.7314262 ]]),\n",
       "  array([[-2.44563756],\n",
       "         [ 4.77625585],\n",
       "         [-1.81475954]]),\n",
       "  array([[-2.69143192],\n",
       "         [ 4.61028644],\n",
       "         [-1.89695903]]),\n",
       "  array([[-2.93389084],\n",
       "         [ 4.44656924],\n",
       "         [-1.97806974]]),\n",
       "  array([[-2.21237455],\n",
       "         [ 4.92552966],\n",
       "         [-1.89800566]]),\n",
       "  array([[-2.44884576],\n",
       "         [ 4.76585819],\n",
       "         [-1.97706261]]),\n",
       "  array([[-2.68234151],\n",
       "         [ 4.60819582],\n",
       "         [-2.05514949]]),\n",
       "  array([[-2.91296875],\n",
       "         [ 4.45247035],\n",
       "         [-2.13230116]]),\n",
       "  array([[-2.22583673],\n",
       "         [ 4.90860807],\n",
       "         [-2.05605188]]),\n",
       "  array([[-2.45129913],\n",
       "         [ 4.7563724 ],\n",
       "         [-2.13142971]]),\n",
       "  array([[-2.67417509],\n",
       "         [ 4.60588312],\n",
       "         [-2.20596531]]),\n",
       "  array([[-2.67338652],\n",
       "         [ 4.60452492],\n",
       "         [-2.20596531]]),\n",
       "  array([[-2.67260661],\n",
       "         [ 4.60318165],\n",
       "         [-2.20596531]]),\n",
       "  array([[-2.67183509],\n",
       "         [ 4.60185282],\n",
       "         [-2.20596531]]),\n",
       "  array([[-2.67107171],\n",
       "         [ 4.60053801],\n",
       "         [-2.20596531]]),\n",
       "  array([[-2.67031622],\n",
       "         [ 4.59923678],\n",
       "         [-2.20596531]]),\n",
       "  array([[-2.66956838],\n",
       "         [ 4.59794873],\n",
       "         [-2.20596531]]),\n",
       "  array([[-2.66882798],\n",
       "         [ 4.59667349],\n",
       "         [-2.20596531]]),\n",
       "  array([[-2.66809479],\n",
       "         [ 4.59541069],\n",
       "         [-2.20596531]]),\n",
       "  array([[-2.66736863],\n",
       "         [ 4.59415998],\n",
       "         [-2.20596531]]),\n",
       "  array([[-2.66664929],\n",
       "         [ 4.59292102],\n",
       "         [-2.20596531]]),\n",
       "  array([[-2.6659366 ],\n",
       "         [ 4.59169351],\n",
       "         [-2.20596531]]),\n",
       "  array([[-2.66523038],\n",
       "         [ 4.59047715],\n",
       "         [-2.20596531]]),\n",
       "  array([[-2.66453045],\n",
       "         [ 4.58927163],\n",
       "         [-2.20596531]]),\n",
       "  array([[-2.66383667],\n",
       "         [ 4.58807668],\n",
       "         [-2.20596531]]),\n",
       "  array([[-2.66314887],\n",
       "         [ 4.58689205],\n",
       "         [-2.20596531]]),\n",
       "  array([[-2.66246691],\n",
       "         [ 4.58571746],\n",
       "         [-2.20596531]]),\n",
       "  array([[-2.66179064],\n",
       "         [ 4.58455269],\n",
       "         [-2.20596531]]),\n",
       "  array([[-2.66111993],\n",
       "         [ 4.58339749],\n",
       "         [-2.20596531]]),\n",
       "  array([[-2.66045465],\n",
       "         [ 4.58225164],\n",
       "         [-2.20596531]]),\n",
       "  array([[-2.65979467],\n",
       "         [ 4.58111493],\n",
       "         [-2.20596531]]),\n",
       "  array([[-2.65913988],\n",
       "         [ 4.57998713],\n",
       "         [-2.20596531]]),\n",
       "  array([[-2.65849015],\n",
       "         [ 4.57886806],\n",
       "         [-2.20596531]]),\n",
       "  array([[-2.65784537],\n",
       "         [ 4.57775752],\n",
       "         [-2.20596531]]),\n",
       "  array([[-2.65720543],\n",
       "         [ 4.57665533],\n",
       "         [-2.20596531]]),\n",
       "  array([[-2.65657024],\n",
       "         [ 4.5755613 ],\n",
       "         [-2.20596531]]),\n",
       "  array([[-2.65593969],\n",
       "         [ 4.57447526],\n",
       "         [-2.20596531]]),\n",
       "  array([[-2.65531368],\n",
       "         [ 4.57339705],\n",
       "         [-2.20596531]]),\n",
       "  array([[-2.65469211],\n",
       "         [ 4.5723265 ],\n",
       "         [-2.20596531]]),\n",
       "  array([[-2.65407491],\n",
       "         [ 4.57126345],\n",
       "         [-2.20596531]]),\n",
       "  array([[-2.65346198],\n",
       "         [ 4.57020776],\n",
       "         [-2.20596531]]),\n",
       "  array([[-2.65285323],\n",
       "         [ 4.56915929],\n",
       "         [-2.20596531]]),\n",
       "  array([[-2.65224859],\n",
       "         [ 4.56811788],\n",
       "         [-2.20596531]]),\n",
       "  array([[-2.65164797],\n",
       "         [ 4.5670834 ],\n",
       "         [-2.20596531]]),\n",
       "  array([[-2.65105131],\n",
       "         [ 4.56605573],\n",
       "         [-2.20596531]]),\n",
       "  array([[-2.65045851],\n",
       "         [ 4.56503473],\n",
       "         [-2.20596531]]),\n",
       "  array([[-2.64986952],\n",
       "         [ 4.56402028],\n",
       "         [-2.20596531]]),\n",
       "  array([[-2.64928427],\n",
       "         [ 4.56301225],\n",
       "         [-2.20596531]]),\n",
       "  array([[-2.64870267],\n",
       "         [ 4.56201054],\n",
       "         [-2.20596531]]),\n",
       "  array([[-2.64812468],\n",
       "         [ 4.56101503],\n",
       "         [-2.20596531]]),\n",
       "  array([[-2.64755022],\n",
       "         [ 4.56002561],\n",
       "         [-2.20596531]]),\n",
       "  array([[-2.64697923],\n",
       "         [ 4.55904217],\n",
       "         [-2.20596531]]),\n",
       "  array([[-2.64641166],\n",
       "         [ 4.5580646 ],\n",
       "         [-2.20596531]]),\n",
       "  array([[-2.64584744],\n",
       "         [ 4.55709282],\n",
       "         [-2.20596531]]),\n",
       "  array([[-2.64528653],\n",
       "         [ 4.55612672],\n",
       "         [-2.20596531]]),\n",
       "  array([[-2.64472885],\n",
       "         [ 4.5551662 ],\n",
       "         [-2.20596531]]),\n",
       "  array([[-2.64417436],\n",
       "         [ 4.55421118],\n",
       "         [-2.20596531]]),\n",
       "  array([[-2.64362302],\n",
       "         [ 4.55326156],\n",
       "         [-2.20596531]]),\n",
       "  array([[-2.64307475],\n",
       "         [ 4.55231726],\n",
       "         [-2.20596531]]),\n",
       "  array([[-2.64252953],\n",
       "         [ 4.55137819],\n",
       "         [-2.20596531]]),\n",
       "  array([[-2.64198729],\n",
       "         [ 4.55044427],\n",
       "         [-2.20596531]]),\n",
       "  array([[-2.641448  ],\n",
       "         [ 4.54951541],\n",
       "         [-2.20596531]]),\n",
       "  array([[-2.6409116 ],\n",
       "         [ 4.54859154],\n",
       "         [-2.20596531]]),\n",
       "  array([[-2.64037806],\n",
       "         [ 4.54767259],\n",
       "         [-2.20596531]]),\n",
       "  array([[-2.63984732],\n",
       "         [ 4.54675847],\n",
       "         [-2.20596531]]),\n",
       "  array([[-2.63931935],\n",
       "         [ 4.54584912],\n",
       "         [-2.20596531]])],\n",
       " [1.0,\n",
       "  1.758,\n",
       "  12.345536831194375,\n",
       "  4.260759917663956,\n",
       "  3.46012691749126,\n",
       "  6.899086775236749,\n",
       "  0.8801583131850047,\n",
       "  2.6429167551325508,\n",
       "  5.100372010800457,\n",
       "  0.39106553707833536,\n",
       "  2.490008450846615,\n",
       "  3.84777602320592,\n",
       "  0.40902897358956924,\n",
       "  0.9734734562656006,\n",
       "  2.346684061446313,\n",
       "  2.813908388426036,\n",
       "  0.5442135673203039,\n",
       "  0.43059675183958757,\n",
       "  0.8860954399326322,\n",
       "  0.48364389445458744,\n",
       "  0.37197332292276947,\n",
       "  0.8017846609160523,\n",
       "  0.4278023292549882,\n",
       "  0.32517351464177724,\n",
       "  0.7265181632985513,\n",
       "  0.3757100532886162,\n",
       "  0.2867234440533815,\n",
       "  0.6581572822824502,\n",
       "  0.3266893240853998,\n",
       "  0.27932986735283727,\n",
       "  1.2140093435273493,\n",
       "  1.6086767894277476,\n",
       "  0.4309315524542549,\n",
       "  0.12578630399596782,\n",
       "  0.7294906838101338,\n",
       "  0.6714243580068044,\n",
       "  0.3790036324032623,\n",
       "  0.09082806731853382,\n",
       "  0.7042976487068259,\n",
       "  0.60813794763985,\n",
       "  0.3307393746907574,\n",
       "  0.05698483246087169,\n",
       "  0.6868593186232337,\n",
       "  0.5499623007070997,\n",
       "  0.2854863733960322,\n",
       "  0.0283653717570333,\n",
       "  0.028348645239991702,\n",
       "  0.028332107353054727,\n",
       "  0.028315752164256677,\n",
       "  0.028299574045938497,\n",
       "  0.02828356765333436,\n",
       "  0.0282677279050573,\n",
       "  0.028252049965282133,\n",
       "  0.02823652922744857,\n",
       "  0.028221161299329008,\n",
       "  0.02820594198932385,\n",
       "  0.028190867293863244,\n",
       "  0.02817593338580795,\n",
       "  0.028161136603754234,\n",
       "  0.028146473442158135,\n",
       "  0.028131940542203568,\n",
       "  0.028117534683347056,\n",
       "  0.028103252775478673,\n",
       "  0.028089091851645355,\n",
       "  0.028075049061287764,\n",
       "  0.028061121663947503,\n",
       "  0.028047307023404872,\n",
       "  0.028033602602212,\n",
       "  0.02802000595658916,\n",
       "  0.02800651473165512,\n",
       "  0.027993126656965378,\n",
       "  0.027979839542334142,\n",
       "  0.027966651273918404,\n",
       "  0.02795355981054432,\n",
       "  0.027940563180257717,\n",
       "  0.027927659477082343,\n",
       "  0.027914846857970712,\n",
       "  0.027902123539933762,\n",
       "  0.02788948779733664,\n",
       "  0.027876937959349077,\n",
       "  0.027864472407539653,\n",
       "  0.02785208957360407,\n",
       "  0.027839787937218637,\n",
       "  0.02782756602401038,\n",
       "  0.02781542240363624,\n",
       "  0.027803355687964413,\n",
       "  0.02779136452935097,\n",
       "  0.027779447619005995,\n",
       "  0.02776760368544349,\n",
       "  0.027755831493009905,\n",
       "  0.027744129840486447,\n",
       "  0.027732497559760705,\n",
       "  0.027720933514563454,\n",
       "  0.027709436599266696,\n",
       "  0.027698005737739517,\n",
       "  0.027686639882258196,\n",
       "  0.027675338012467566,\n",
       "  0.027664099134390722,\n",
       "  0.027652922279484283,\n",
       "  0.027641806503736755,\n",
       "  0.027630750886807522])"
      ]
     },
     "execution_count": 80,
     "metadata": {},
     "output_type": "execute_result"
    }
   ],
   "source": [
    "batch_svm_min(X2, y2, 0.001)"
   ]
  },
  {
   "cell_type": "code",
   "execution_count": null,
   "id": "8da3af29-056d-48b7-b3e1-45a72b63a297",
   "metadata": {},
   "outputs": [],
   "source": []
  }
 ],
 "metadata": {
  "kernelspec": {
   "display_name": "Python 3 (ipykernel)",
   "language": "python",
   "name": "python3"
  },
  "language_info": {
   "codemirror_mode": {
    "name": "ipython",
    "version": 3
   },
   "file_extension": ".py",
   "mimetype": "text/x-python",
   "name": "python",
   "nbconvert_exporter": "python",
   "pygments_lexer": "ipython3",
   "version": "3.8.10"
  }
 },
 "nbformat": 4,
 "nbformat_minor": 5
}
