{
 "cells": [
  {
   "cell_type": "code",
   "execution_count": 1,
   "id": "0495aa58-2c90-4820-a406-7cc1e2032f2a",
   "metadata": {},
   "outputs": [],
   "source": [
    "import numpy as np"
   ]
  },
  {
   "cell_type": "code",
   "execution_count": 23,
   "id": "724fbc22-1eaa-4cf0-8980-a0146b0f1957",
   "metadata": {},
   "outputs": [
    {
     "data": {
      "text/plain": [
       "array([[[3, 6, 9],\n",
       "        [8, 6, 4],\n",
       "        [7, 4, 1]],\n",
       "\n",
       "       [[3, 6, 3],\n",
       "        [3, 9, 1],\n",
       "        [3, 1, 9]],\n",
       "\n",
       "       [[5, 5, 8],\n",
       "        [8, 3, 2],\n",
       "        [2, 4, 7]],\n",
       "\n",
       "       [[1, 9, 0],\n",
       "        [1, 8, 8],\n",
       "        [9, 3, 6]]])"
      ]
     },
     "execution_count": 23,
     "metadata": {},
     "output_type": "execute_result"
    }
   ],
   "source": [
    "A = np.random.randint(0, 10, size=(4, 3, 3))\n",
    "A"
   ]
  },
  {
   "cell_type": "code",
   "execution_count": 24,
   "id": "6ce64bc8-f83e-4f8e-8c7d-4d82ab24809d",
   "metadata": {},
   "outputs": [
    {
     "data": {
      "text/plain": [
       "(4, 3, 3)"
      ]
     },
     "execution_count": 24,
     "metadata": {},
     "output_type": "execute_result"
    }
   ],
   "source": [
    "A.shape"
   ]
  },
  {
   "cell_type": "code",
   "execution_count": 25,
   "id": "c09a3e66-21d4-4d31-8bc1-13337c490ee5",
   "metadata": {},
   "outputs": [
    {
     "data": {
      "text/plain": [
       "array([[1.],\n",
       "       [1.],\n",
       "       [1.]])"
      ]
     },
     "execution_count": 25,
     "metadata": {},
     "output_type": "execute_result"
    }
   ],
   "source": [
    "a = np.ones((3, 1))\n",
    "a"
   ]
  },
  {
   "cell_type": "code",
   "execution_count": 26,
   "id": "3d9899d7-4cbd-4a03-a8ae-9ecd76e68082",
   "metadata": {},
   "outputs": [
    {
     "data": {
      "text/plain": [
       "array([[[18., 16., 14.],\n",
       "        [ 9., 16., 13.],\n",
       "        [15., 12., 17.],\n",
       "        [11., 20., 14.]]])"
      ]
     },
     "execution_count": 26,
     "metadata": {},
     "output_type": "execute_result"
    }
   ],
   "source": [
    "np.dot(a.T, A)"
   ]
  },
  {
   "cell_type": "code",
   "execution_count": 27,
   "id": "a61fa5cf-2529-4359-8dc3-53b97d2c7051",
   "metadata": {},
   "outputs": [
    {
     "data": {
      "text/plain": [
       "array([[[3, 6, 3],\n",
       "        [3, 9, 1],\n",
       "        [3, 1, 9]]])"
      ]
     },
     "execution_count": 27,
     "metadata": {},
     "output_type": "execute_result"
    }
   ],
   "source": [
    "A[1:2, :, :]"
   ]
  },
  {
   "cell_type": "code",
   "execution_count": 15,
   "id": "1fbb9e48-dff7-450b-8447-898a7bfe7ae0",
   "metadata": {},
   "outputs": [
    {
     "data": {
      "text/plain": [
       "array([[[0., 0., 0.],\n",
       "        [0., 0., 0.],\n",
       "        [0., 0., 0.]],\n",
       "\n",
       "       [[0., 0., 0.],\n",
       "        [0., 0., 0.],\n",
       "        [0., 0., 0.]],\n",
       "\n",
       "       [[0., 0., 0.],\n",
       "        [0., 0., 0.],\n",
       "        [0., 0., 0.]],\n",
       "\n",
       "       [[0., 0., 0.],\n",
       "        [0., 0., 0.],\n",
       "        [0., 0., 0.]]])"
      ]
     },
     "execution_count": 15,
     "metadata": {},
     "output_type": "execute_result"
    }
   ],
   "source": [
    "C = np.zeros((4, 3, 3))\n",
    "C"
   ]
  },
  {
   "cell_type": "code",
   "execution_count": 32,
   "id": "ecf8981a-6d61-49fa-b71d-a94092187621",
   "metadata": {},
   "outputs": [],
   "source": [
    "C[1:2, :, :] = A[1:2, :, :]"
   ]
  },
  {
   "cell_type": "code",
   "execution_count": 33,
   "id": "ea24bb0b-f2ad-4aef-be60-a8500ca09f50",
   "metadata": {},
   "outputs": [
    {
     "data": {
      "text/plain": [
       "array([[[0., 0., 0.],\n",
       "        [0., 0., 0.],\n",
       "        [0., 0., 0.]],\n",
       "\n",
       "       [[3., 6., 3.],\n",
       "        [3., 9., 1.],\n",
       "        [3., 1., 9.]],\n",
       "\n",
       "       [[0., 0., 0.],\n",
       "        [0., 0., 0.],\n",
       "        [0., 0., 0.]],\n",
       "\n",
       "       [[0., 0., 0.],\n",
       "        [0., 0., 0.],\n",
       "        [0., 0., 0.]]])"
      ]
     },
     "execution_count": 33,
     "metadata": {},
     "output_type": "execute_result"
    }
   ],
   "source": [
    "C"
   ]
  },
  {
   "cell_type": "code",
   "execution_count": 39,
   "id": "7e2c133e-f977-4cd7-921d-a1197739c9a9",
   "metadata": {},
   "outputs": [
    {
     "data": {
      "text/plain": [
       "array([[7, 7, 4],\n",
       "       [9, 3, 9],\n",
       "       [3, 4, 8]])"
      ]
     },
     "execution_count": 39,
     "metadata": {},
     "output_type": "execute_result"
    }
   ],
   "source": [
    "d = np.random.randint(0, 10, size=(3, 3))\n",
    "d"
   ]
  },
  {
   "cell_type": "code",
   "execution_count": 40,
   "id": "18b77fc3-4102-416b-9843-2422a71ae3b1",
   "metadata": {},
   "outputs": [
    {
     "data": {
      "text/plain": [
       "array([[[105, 100,  95],\n",
       "        [ 54, 109,  64],\n",
       "        [ 99,  72,  98],\n",
       "        [ 50, 131,  80]],\n",
       "\n",
       "       [[114, 108, 102],\n",
       "        [ 63,  90, 111],\n",
       "        [ 87,  90, 141],\n",
       "        [ 93, 132,  78]],\n",
       "\n",
       "       [[ 97,  74,  51],\n",
       "        [ 45,  62,  85],\n",
       "        [ 63,  59,  88],\n",
       "        [ 79,  83,  80]]])"
      ]
     },
     "execution_count": 40,
     "metadata": {},
     "output_type": "execute_result"
    }
   ],
   "source": [
    "np.dot(d, A)"
   ]
  },
  {
   "cell_type": "code",
   "execution_count": 36,
   "id": "5c9fa838-c2e8-4ee0-83d1-6bc6f033d1c8",
   "metadata": {},
   "outputs": [
    {
     "data": {
      "text/plain": [
       "array([[102,  84,  66]])"
      ]
     },
     "execution_count": 36,
     "metadata": {},
     "output_type": "execute_result"
    }
   ],
   "source": [
    "np.dot(np.array([[4, 6, 6]]), np.array([[3, 6, 9],\n",
    "        [8, 6, 4],\n",
    "        [7, 4, 1]]))"
   ]
  },
  {
   "cell_type": "code",
   "execution_count": 41,
   "id": "b654f615-7b92-43a4-8f42-ff9386fdf245",
   "metadata": {},
   "outputs": [
    {
     "data": {
      "text/plain": [
       "array([[[102,  75, 138],\n",
       "        [122,  90, 118],\n",
       "        [ 88,  65,  72]],\n",
       "\n",
       "       [[ 84,  51,  90],\n",
       "        [105,  52, 101],\n",
       "        [ 57,  60,  93]],\n",
       "\n",
       "       [[104,  82, 129],\n",
       "        [ 89,  73,  75],\n",
       "        [ 71,  54, 100]],\n",
       "\n",
       "       [[ 88,  34,  85],\n",
       "        [103,  63, 140],\n",
       "        [108,  96, 111]]])"
      ]
     },
     "execution_count": 41,
     "metadata": {},
     "output_type": "execute_result"
    }
   ],
   "source": [
    "np.dot(A, d)"
   ]
  },
  {
   "cell_type": "code",
   "execution_count": 42,
   "id": "b230db77-4245-4214-af15-c667e6f084c4",
   "metadata": {},
   "outputs": [
    {
     "data": {
      "text/plain": [
       "array([[3],\n",
       "       [6],\n",
       "       [3]])"
      ]
     },
     "execution_count": 42,
     "metadata": {},
     "output_type": "execute_result"
    }
   ],
   "source": [
    "e = np.random.randint(0, 10, size=(3,1))\n",
    "e"
   ]
  },
  {
   "cell_type": "code",
   "execution_count": 44,
   "id": "a35959d7-60fe-499f-aa38-fde8dbd3c573",
   "metadata": {},
   "outputs": [
    {
     "data": {
      "text/plain": [
       "array([[[72],\n",
       "        [72],\n",
       "        [48]],\n",
       "\n",
       "       [[54],\n",
       "        [66],\n",
       "        [42]],\n",
       "\n",
       "       [[69],\n",
       "        [48],\n",
       "        [51]],\n",
       "\n",
       "       [[57],\n",
       "        [75],\n",
       "        [63]]])"
      ]
     },
     "execution_count": 44,
     "metadata": {},
     "output_type": "execute_result"
    }
   ],
   "source": [
    "Ae = np.dot(A, e)\n",
    "Ae"
   ]
  },
  {
   "cell_type": "code",
   "execution_count": 49,
   "id": "e6dde4b9-a616-46df-af1d-7b8306c8d151",
   "metadata": {},
   "outputs": [
    {
     "data": {
      "text/plain": [
       "array([[72, 54, 69, 57],\n",
       "       [72, 66, 48, 75],\n",
       "       [48, 42, 51, 63]])"
      ]
     },
     "execution_count": 49,
     "metadata": {},
     "output_type": "execute_result"
    }
   ],
   "source": [
    "np.concatenate((Ae[0,:,:], Ae[1,:,:], Ae[2,:,:], Ae[3,:,:]), axis=1)"
   ]
  },
  {
   "cell_type": "code",
   "execution_count": null,
   "id": "051e35bc-7e10-4838-8724-f4635f8f4ecb",
   "metadata": {},
   "outputs": [],
   "source": []
  }
 ],
 "metadata": {
  "kernelspec": {
   "display_name": "Python 3 (ipykernel)",
   "language": "python",
   "name": "python3"
  },
  "language_info": {
   "codemirror_mode": {
    "name": "ipython",
    "version": 3
   },
   "file_extension": ".py",
   "mimetype": "text/x-python",
   "name": "python",
   "nbconvert_exporter": "python",
   "pygments_lexer": "ipython3",
   "version": "3.10.12"
  }
 },
 "nbformat": 4,
 "nbformat_minor": 5
}
